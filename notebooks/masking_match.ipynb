{
 "cells": [
  {
   "attachments": {},
   "cell_type": "markdown",
   "metadata": {},
   "source": [
    "## Matched and mismatched experiments"
   ]
  },
  {
   "cell_type": "code",
   "execution_count": null,
   "metadata": {},
   "outputs": [],
   "source": [
    "# import libraries\n",
    "# ! pip install openpyxl\n",
    "# ! pip install -U kaleido\n",
    "# ! pip install ipykernel\n",
    "# ! \n",
    "import pandas as pd\n",
    "import numpy as np\n",
    "import random as rd\n",
    "#import subprocess\n",
    "import plotly.express as px\n",
    "import plotly.graph_objects as go\n",
    "import matplotlib.pyplot as plt\n",
    "from sklearn.metrics import jaccard_score\n",
    "#import scipy as sp\n",
    "#import scipy.stats as stats\n",
    "import openpyxl\n",
    "import os\n",
    "import seaborn as sns\n",
    "\n",
    "# avoid warnings\n",
    "pd.options.mode.chained_assignment = None"
   ]
  },
  {
   "cell_type": "code",
   "execution_count": null,
   "metadata": {},
   "outputs": [],
   "source": [
    "# set the paths\n",
    "result_dir = '../server/results/matching/'\n",
    "output_dir = '../server/outputs/matching/'\n",
    "plot_dir = '../server/plots/matching/'\n",
    "pos_dir = '../server/positions/matching/'"
   ]
  },
  {
   "cell_type": "code",
   "execution_count": null,
   "metadata": {},
   "outputs": [],
   "source": [
    "# set variables\n",
    "chromosomes_int = list(range(1,23))\n",
    "chromosomes_str = [str(chrom) for chrom in chromosomes_int]\n",
    "bk_list = ['1']#, '2', '3', '4', '5'] \n",
    "sc_list = ['129', '130', '131', '132', '133']\n",
    "\n",
    "wrong_values = ['./.','.', '1', '0']\n",
    "valid_values = ['1/1', '0/0', '0/1', '2/2', '1/2']"
   ]
  },
  {
   "cell_type": "code",
   "execution_count": null,
   "metadata": {},
   "outputs": [],
   "source": [
    "# load datasets\n",
    "bk1 = pd.read_csv('data/GM12878_gDNA_1.vcf', header=30,sep='\\t', dtype='object')\n",
    "bk2 = pd.read_csv('data/GM12878_gDNA_2.vcf', header=30,sep='\\t', dtype='object')\n",
    "bk3 = pd.read_csv('data/GM12878_gDNA_3.vcf', header=30,sep='\\t', dtype='object')\n",
    "bk4 = pd.read_csv('data/GM12878_gDNA_4.vcf', header=30,sep='\\t', dtype='object')\n",
    "bk5 = pd.read_csv('data/GM12878_gDNA_5.vcf', header=30,sep='\\t', dtype='object')\n",
    "\n",
    "sc129 = pd.read_csv('data/GM12878_SC_129.vcf.gz', header=30,sep='\\t', dtype='object')\n",
    "sc130 = pd.read_csv('data/GM12878_SC_130.vcf.gz', header=30,sep='\\t', dtype='object')\n",
    "sc131 = pd.read_csv('data/GM12878_SC_131.vcf.gz', header=30,sep='\\t', dtype='object')\n",
    "sc132 = pd.read_csv('data/GM12878_SC_132.vcf.gz', header=30,sep='\\t', dtype='object')\n",
    "sc133 = pd.read_csv('data/GM12878_SC_133.vcf.gz', header=30,sep='\\t', dtype='object')"
   ]
  },
  {
   "cell_type": "code",
   "execution_count": null,
   "metadata": {},
   "outputs": [],
   "source": [
    "for bk in bk_list:\n",
    "    df_bk = pd.read_csv(f'data/GM12878_gDNA_{bk}.vcf', header=30,sep='\\t', dtype='object')\n",
    "    df_bk.iloc[:,9] = df_bk.iloc[:,9].apply(lambda x: x.split(':')[0])\n",
    "    df_bk.dropna(inplace=True)\n",
    "    df_bk = df_bk[~df_bk.iloc[:,9].isin(wrong_values)]\n",
    "    df_bk.to_csv(os.path.join(output_dir, f'bulk_calls/GM12878_gDNA_calls_{bk}.vcf'), sep='\\t', index=False)"
   ]
  },
  {
   "cell_type": "code",
   "execution_count": null,
   "metadata": {},
   "outputs": [],
   "source": [
    "pd.read_csv(os.path.join(output_dir, 'bulk_calls/GM12878_gDNA_calls_2.vcf'),header=0,sep='\\t', dtype='object').head(3)"
   ]
  },
  {
   "attachments": {},
   "cell_type": "markdown",
   "metadata": {},
   "source": [
    "1. considero solo le SNPs con valori di genotipo accettabili\n",
    "2. per ogni combinazione tra bulk e single cell creo dataset che fanno match e mismatch\n",
    "3. separo questi dataset per ciascun cromosoma considerando che beagle considera solo reference panels per ciascun cromosoma "
   ]
  },
  {
   "cell_type": "code",
   "execution_count": null,
   "metadata": {},
   "outputs": [],
   "source": [
    "for bk in bk_list:\n",
    "    for sc in sc_list:\n",
    "        \n",
    "        print(f'starting merging datasets bulk {bk} and single cell {sc}')\n",
    "        df_bk = pd.read_csv(f'data/GM12878_gDNA_{bk}.vcf', header=30,sep='\\t', dtype='object')\n",
    "        df_sing = pd.read_csv(f'data/GM12878_SC_{sc}.vcf.gz', header=30,sep='\\t', dtype='object')\n",
    "\n",
    "        column_names = df_bk.columns.to_list()\n",
    "        \n",
    "        df_bk = df_bk[df_bk.iloc[:,0].isin(chromosomes_str)]\n",
    "        df_sing = df_sing[df_sing.iloc[:,0].isin(chromosomes_str)]\n",
    "\n",
    "        merged_df = pd.concat([df_bk, df_sing.iloc[:,9]], axis=1)\n",
    "        merged_df.iloc[:,9] = merged_df.iloc[:,9].apply(lambda x: x.split(':')[0])\n",
    "        merged_df.iloc[:,10] = merged_df.iloc[:,10].apply(lambda x: x.split(':')[0])\n",
    "\n",
    "        merged_df['FORMAT'] = 'GT'\n",
    "\n",
    "        print(f'dimension before filtering: {merged_df.shape[0]}')\n",
    "\n",
    "        merged_df['match'] = (merged_df.iloc[:,9] == merged_df.iloc[:,10]).astype(int)\n",
    "\n",
    "        valid_values = ['1/1', '0/0', '0/1', '2/2', '1/2']\n",
    "        merged_df_filt = merged_df[merged_df.iloc[:,9].isin(valid_values)]\n",
    "        \n",
    "\n",
    "        print(merged_df_filt.shape[0])\n",
    "\n",
    "        merged_df_filt_matched = merged_df_filt[merged_df_filt['match']==1]\n",
    "        merged_df_filt_mismatc = merged_df_filt[merged_df_filt['match']==0]\n",
    "\n",
    "        merged_df_filt_matched.to_csv(os.path.join(output_dir, f'matched/GM12878_matched_bk{bk}_sc{sc}_chrs.vcf'), sep='\\t', index=False)\n",
    "        merged_df_filt_mismatc.to_csv(os.path.join(output_dir, f'mismatc/GM12878_mismatc_bk{bk}_sc{sc}_chrs.vcf.gz'), sep='\\t', index=False)\n",
    "\n",
    "        print('merging datasets finished')\n",
    "\n",
    "        for chrom in chromosomes_str:\n",
    "            # splitting chromosomes\n",
    "            \n",
    "            merged_df_filt_matched_chr = merged_df_filt_matched[merged_df_filt_matched['#CHROM'] == chrom]\n",
    "            merged_df_filt_mismatc_chr = merged_df_filt_mismatc[merged_df_filt_mismatc['#CHROM'] == chrom]\n",
    "\n",
    "            merged_df_filt_matched_chr.to_csv(os.path.join(output_dir, f'matched/GM12878_matched_bk{bk}_sc{sc}_chrom{chrom}.vcf'), sep='\\t', index=False)\n",
    "            merged_df_filt_mismatc_chr.to_csv(os.path.join(output_dir, f'mismatc/GM12878_mismatc_bk{bk}_sc{sc}_chrom{chrom}.vcf.gz'), sep='\\t', index=False)"
   ]
  },
  {
   "cell_type": "code",
   "execution_count": null,
   "metadata": {},
   "outputs": [],
   "source": [
    "df1 = pd.read_csv(os.path.join(output_dir, f'matched/GM12878_matched_bk{bk}_sc{sc}_chrom{chrom}.vcf'), header=0, sep='\\t', dtype='object')\n",
    "df2 = pd.read_csv(os.path.join(output_dir, f'mismatc/GM12878_mismatc_bk{bk}_sc{sc}_chrom{chrom}.vcf.gz'), header=0, sep='\\t', dtype='object')"
   ]
  },
  {
   "cell_type": "code",
   "execution_count": null,
   "metadata": {},
   "outputs": [],
   "source": [
    "df1.head(3)"
   ]
  },
  {
   "cell_type": "code",
   "execution_count": null,
   "metadata": {},
   "outputs": [],
   "source": [
    "df2.head(3)"
   ]
  },
  {
   "attachments": {},
   "cell_type": "markdown",
   "metadata": {},
   "source": [
    "### Matched analysis"
   ]
  },
  {
   "cell_type": "code",
   "execution_count": null,
   "metadata": {},
   "outputs": [],
   "source": [
    "perc = 10\n",
    "table = []\n",
    "\n",
    "for bk in bk_list:\n",
    "    for sc in sc_list:\n",
    "        for chrom in chromosomes_str:\n",
    "\n",
    "            df = pd.read_csv(os.path.join(output_dir, f'matched/GM12878_matched_bk{bk}_sc{sc}_chrom{chrom}.vcf'), header=0,sep='\\t', dtype='object')\n",
    "            \n",
    "            # seleziono le posizioni da mascherare con un seed e una percentuale fissata a 10/100\n",
    "            rd.seed(1)\n",
    "            pos = df['POS'].tolist()\n",
    "            pos_seed = rd.sample(pos, round((len(pos)*(int(perc)/100))))\n",
    "\n",
    "            # posizioni che maschero\n",
    "            # position_masked sono le stesso del check\n",
    "            position_masked = os.path.join(pos_dir, f'pos_masked_matched_{bk}_{sc}_chr{chrom}.txt')\n",
    "            with open(position_masked,'w') as output:\n",
    "                output.write(str(pos_seed))\n",
    "\n",
    "            # creo i dataframe che mi servono da testare e check\n",
    "            df_test = df[~df['POS'].isin(pos_seed)]\n",
    "            df_check = df[df['POS'].isin(pos_seed)]\n",
    "            df_test.drop([df_test.columns[9],'match'], axis=1, inplace=True)\n",
    "\n",
    "            df_test.to_csv(os.path.join(output_dir, f'matched/test/matched_bk{bk}_sc{sc}_chr{chrom}_test.vcf.gz'), sep='\\t', index=False)\n",
    "            df_check.to_csv(os.path.join(output_dir, f'matched/check/matched_bk{bk}_sc{sc}_chr{chrom}_check.vcf.gz'), sep='\\t', index=False)\n",
    "\n",
    "            num_start = df.shape[0]\n",
    "            num_end = df_test.shape[0]\n",
    "\n",
    "            dic_table = {'chromosome':chrom, 'bulk':bk, 'sing':sc,\n",
    "                        'num_start':num_start, 'num_end':num_end, 'removed':(num_start - num_end)}\n",
    "            table.append(dic_table)\n",
    "\n",
    "pd.DataFrame(table).to_excel(os.path.join(result_dir, f'matched/general_statistics_matched.xlsx'), index=False)\n",
    "# dataframe con il numero di snps considerate prima e dopo il mascheramento"
   ]
  },
  {
   "cell_type": "code",
   "execution_count": null,
   "metadata": {},
   "outputs": [],
   "source": [
    "df3 = pd.read_csv(os.path.join(output_dir, f'matched/matched_bk1_sc129_chr1_test.vcf.gz'), header=0, sep='\\t', dtype='object')\n",
    "df4 = pd.read_csv(os.path.join(output_dir, f'matched/matched_bk1_sc129_chr1_check.vcf.gz'), header=0, sep='\\t', dtype='object')"
   ]
  },
  {
   "cell_type": "code",
   "execution_count": null,
   "metadata": {},
   "outputs": [],
   "source": [
    "import subprocess\n",
    "\n",
    "def impute_seed(chrom, bk, sc):\n",
    "    ref = f'/home/mreverenna/reference/chr{chrom}.1kg.phase3.v5a.vcf.gz '\n",
    "    map = f'/home/mreverenna/map/plink.chr{chrom}.GRCh37.map '\n",
    "    gt = f'/home/mreverenna/analysis/vcf_experiments/masking_matching/test/matched_bk{bk}_sc{sc}_chr{chrom}_test.vcf.gz '\n",
    "    out = f'/home/mreverenna/analysis/vcf_experiments/masking_matching/imputed/imputed_bk{bk}_sc{sc}_chr{chrom}_test'\n",
    "    positions = f'/home/mreverenna/analysis/vcf_experiments/masking_seeds/positions/file_diff_{chrom}.txt '\n",
    "\n",
    "    print(f'Imputation of matched_bk{bk}_sc{sc}_chr{chrom}_test is started...')\n",
    "    command = \"java -jar /home/mreverenna/programs/beagle.22Jul22.46e.jar \" + f\"excludemarkers={positions}\" + f\"ref={ref}\" + f\"gt={gt}\" + f\"map={map}\" + f\"out={out}\"\n",
    "    result = subprocess.Popen(command, shell=True, stdout=subprocess.PIPE, stderr=subprocess.PIPE).communicate()"
   ]
  },
  {
   "cell_type": "code",
   "execution_count": null,
   "metadata": {},
   "outputs": [],
   "source": [
    "for bk in bk_list:\n",
    "    for sc in sc_list:\n",
    "        for chrom in chromosomes_int:\n",
    "            impute_seed(chrom, bk, sc)"
   ]
  },
  {
   "cell_type": "code",
   "execution_count": null,
   "metadata": {},
   "outputs": [],
   "source": [
    "df_imputed_1 = pd.read_csv(os.path.join(output_dir, f'imputed_matched_bk1_sc129_chr2_test.vcf.gz'), header=8,sep='\\t', dtype='object')\n",
    "df_imputed_1.iloc[:,9] = df_imputed_1.iloc[:,9].str.split(':').str.get(0)\n",
    "#sc_merg_chr_imputed = sc_merg_chr_imputed[~sc_merg_chr_imputed.iloc[:, 9:].isin(['3|0', '0|3', '3|3']).any(axis=1)]\n",
    "df_imputed_1.iloc[:,9].unique()"
   ]
  },
  {
   "cell_type": "code",
   "execution_count": null,
   "metadata": {},
   "outputs": [],
   "source": [
    "wrong_values = ['./.', '.', '1', '0']\n",
    "valid_values = ['1/1', '0/0', '0/1', '2/2', '1/2']\n",
    "\n",
    "gen_dosage = {'0/0': 0, '0/1': 1, '1/1': 2, '1/2': 3, '2/2': 4}\n",
    "imp_dosage = {'0|0': 0, '0|1': 1, '1|0': 1, '1|1': 2, '1|2': 3, '2|1': 3, '2|2': 4}\n",
    "\n",
    "# values imputed not present in snps array which alterate the jaccard score calculation\n",
    "not_consider = ['0|2', '2|0','3|0', '0|3', '3|3']\n",
    "\n",
    "\n",
    "dict_matching = []\n",
    "for chrom in chromosomes_str:\n",
    "    dict_post = []\n",
    "    for bk in bk_list:\n",
    "        for sc in sc_list:\n",
    "        \n",
    "            # load vcfs\n",
    "            df_check = pd.read_csv(os.path.join(output_dir, f'matched/matched_bk{bk}_sc{sc}_chr{chrom}_check.vcf.gz'), header=0,sep='\\t', dtype='object')\n",
    "            df_imputed = pd.read_csv(os.path.join(output_dir, f'imputed_matched_bk{bk}_sc{sc}_chr{chrom}_test.vcf.gz'), header=8,sep='\\t', dtype='object')\n",
    "\n",
    "            # filter imputed vcf\n",
    "            df_imputed_check = df_imputed[df_imputed['POS'].isin(df_check['POS'].tolist())]\n",
    "            df_imputed_check.iloc[:,9] = df_imputed_check.iloc[:,9].str.split(':').str.get(0)\n",
    "            df_imputed_check = df_imputed_check[~df_imputed_check.iloc[:, 9].isin(not_consider)]\n",
    "            df_imputed_check.drop_duplicates(subset=['POS'], inplace=True) \n",
    "\n",
    "            # filter check vf\n",
    "            df_check_final = df_check[df_check['POS'].isin(df_imputed_check['POS'].tolist())]\n",
    "\n",
    "            # check\n",
    "            print(f'matched_bk{bk}_sc{sc}_chr{chrom}_check.vcf.gz vs imputed_matched_bk{bk}_sc{sc}_chr{chrom}_test')\n",
    "            print(df_check.shape[0], df_imputed_check.shape[0],'---',df_check_final.shape[0], df_imputed_check.shape[0])\n",
    "\n",
    "            # calculate jaccard score\n",
    "            vec_bulk = df_check_final.iloc[:,9].map(gen_dosage).tolist()\n",
    "            vec_sing = df_imputed_check.iloc[:,9].map(imp_dosage).tolist()\n",
    "\n",
    "            j_value = jaccard_score(vec_bulk, vec_sing, average='micro')\n",
    "            dict_matching.append(j_value)\n",
    "\n",
    "            dict_js = {'sc' : sc, 'bk' : bk, 'chromosome' : chrom, 'j_score': j_value}\n",
    "            \n",
    "            dict_post.append(dict_js)\n",
    "\n",
    "    pd.DataFrame(dict_post).to_excel(os.path.join(result_dir, f'matched/jaccard_scores_chr{chrom}_micro_matched.xlsx'), index=False)\n",
    "    # append to a new dataframe\n",
    "            "
   ]
  },
  {
   "attachments": {},
   "cell_type": "markdown",
   "metadata": {},
   "source": [
    "#### Checking"
   ]
  },
  {
   "cell_type": "raw",
   "metadata": {},
   "source": [
    "bk = '1'\n",
    "sc = '129'\n",
    "chrom = '18'\n",
    "\n",
    "df_check = pd.read_csv(os.path.join(output_dir, f'matched/matched_bk{bk}_sc{sc}_chr{chrom}_check.vcf.gz'), header=0,sep='\\t', dtype='object')\n",
    "df_imputed = pd.read_csv(os.path.join(output_dir, f'imputed_matched_bk{bk}_sc{sc}_chr{chrom}_test.vcf.gz'), header=8,sep='\\t', dtype='object')\n",
    "\n",
    "# filter imputed vcf\n",
    "df_imputed_check = df_imputed[df_imputed['POS'].isin(df_check['POS'].tolist())]\n",
    "df_imputed_check.iloc[:,9] = df_imputed_check.iloc[:,9].str.split(':').str.get(0)\n",
    "df_imputed_check = df_imputed_check[~df_imputed_check.iloc[:, 9].isin(not_consider)]\n",
    "df_imputed_check.drop_duplicates(subset=['POS'], inplace=True) \n",
    "\n",
    "# filter check vf\n",
    "df_check_final = df_check[df_check['POS'].isin(df_imputed_check['POS'].tolist())]\n",
    "print(df_check_final.shape[0], df_imputed_check.shape[0])\n",
    "print(df_imputed_check.iloc[:,9].unique())\n"
   ]
  },
  {
   "attachments": {},
   "cell_type": "markdown",
   "metadata": {},
   "source": [
    "### Mismatched analysis"
   ]
  },
  {
   "cell_type": "code",
   "execution_count": null,
   "metadata": {},
   "outputs": [],
   "source": [
    "pd.read_csv(os.path.join(output_dir, f'mismatc/GM12878_mismatc_bk1_sc129_chrom1.vcf.gz'), header=0, sep='\\t', dtype='object').iloc[:,10].unique()"
   ]
  },
  {
   "cell_type": "code",
   "execution_count": null,
   "metadata": {},
   "outputs": [],
   "source": [
    "perc = 10\n",
    "table = []\n",
    "\n",
    "for bk in bk_list:\n",
    "    for sc in sc_list:\n",
    "        for chrom in chromosomes_str:\n",
    "\n",
    "            df = pd.read_csv(os.path.join(output_dir, f'mismatc/GM12878_mismatc_bk{bk}_sc{sc}_chrom{chrom}.vcf.gz'), header=0, sep='\\t', dtype='object')\n",
    "            \n",
    "            rd.seed(1)\n",
    "            pos = df['POS'].tolist()\n",
    "            pos_seed = rd.sample(pos, round((len(pos)*(int(perc)/100))))\n",
    "\n",
    "            position_masked = os.path.join(pos_dir, f'mismatc/pos_masked_mismatched_{bk}_{sc}_chr{chrom}.txt')\n",
    "            with open(position_masked,'w') as output:\n",
    "                output.write(str(pos_seed))\n",
    "\n",
    "            # creo i dataframe che mi servono da testare e check\n",
    "            df_test = df[~df['POS'].isin(pos_seed)]\n",
    "            df_check = df[df['POS'].isin(pos_seed)]\n",
    "            df_test.drop([df_test.columns[9],'match'], axis=1, inplace=True)\n",
    "\n",
    "            df_test.to_csv(os.path.join(output_dir, f'mismatc/test/GM12878_mismatc_bk{bk}_sc{sc}_chr{chrom}_test.vcf.gz'), sep='\\t', index=False)\n",
    "            df_check.to_csv(os.path.join(output_dir, f'mismatc/check/GM12878_mismatc_bk{bk}_sc{sc}_chr{chrom}_check.vcf.gz'), sep='\\t', index=False)\n",
    "\n",
    "            num_start = df.shape[0]\n",
    "            num_end = df_test.shape[0]\n",
    "\n",
    "            dic_table = {'chromosome':chrom, 'bulk':bk, 'sing':sc, 'num_start':num_start, 'num_end':num_end, 'removed':(num_start - num_end)}\n",
    "            table.append(dic_table)\n",
    "\n",
    "pd.DataFrame(table).to_excel(os.path.join(result_dir, f'mismatc/general_statistics_mismatched.xlsx'), index=False)"
   ]
  },
  {
   "cell_type": "code",
   "execution_count": null,
   "metadata": {},
   "outputs": [],
   "source": [
    "df_mismatc = pd.read_csv(os.path.join(output_dir, f'mismatc/GM12878_mismatc_bk1_sc129_chrom1.vcf.gz'), header=0, sep='\\t', dtype='object')\n",
    "df_mismatc.head(3)"
   ]
  },
  {
   "cell_type": "code",
   "execution_count": null,
   "metadata": {},
   "outputs": [],
   "source": [
    "rd.seed(1)\n",
    "pos = df_mismatc['POS'].tolist()\n",
    "pos_seed = rd.sample(pos, round((len(pos)*(int(perc)/100))))\n",
    "len(pos_seed)\n",
    "#position_masked = os.path.join(pos_dir, f'pos_masked_mismatched_{bk}_{sc}_chr{chrom}.txt')\n",
    "#with open(position_masked,'w') as output:\n",
    "#    output.write(str(pos_seed))"
   ]
  },
  {
   "cell_type": "code",
   "execution_count": null,
   "metadata": {},
   "outputs": [],
   "source": [
    "# creo i dataframe che mi servono da testare e check\n",
    "df_test = df_mismatc[~df_mismatc['POS'].isin(pos_seed)]\n",
    "df_check = df_mismatc[df_mismatc['POS'].isin(pos_seed)]\n",
    "df_test.drop([df_test.columns[9],'match'], axis=1, inplace=True)"
   ]
  },
  {
   "cell_type": "code",
   "execution_count": null,
   "metadata": {},
   "outputs": [],
   "source": [
    "df_test.head(3)"
   ]
  },
  {
   "cell_type": "code",
   "execution_count": null,
   "metadata": {},
   "outputs": [],
   "source": [
    "df_check.head(3)"
   ]
  },
  {
   "cell_type": "code",
   "execution_count": null,
   "metadata": {},
   "outputs": [],
   "source": [
    "df_test.to_csv(os.path.join(output_dir, f'mismatc/test/GM12878_mismatc_bk1_sc129_chr1_test.vcf.gz'), sep='\\t', index=False)\n",
    "df_check.to_csv(os.path.join(output_dir, f'mismatc/check/GM12878_mismatc_bk1_sc129_chr1_check.vcf.gz'), sep='\\t', index=False)\n",
    "\n",
    "num_start = df_mismatc.shape[0]\n",
    "num_end = df_test.shape[0]"
   ]
  },
  {
   "cell_type": "code",
   "execution_count": null,
   "metadata": {},
   "outputs": [],
   "source": [
    "pd.read_csv(os.path.join(output_dir, f'mismatc/imputed/GM12878_mismatc_imputed_bk1_sc129_chr1_test.vcf.gz'), header=8,sep='\\t', dtype='object').head(3)"
   ]
  },
  {
   "cell_type": "code",
   "execution_count": null,
   "metadata": {},
   "outputs": [],
   "source": [
    "wrong_values = ['./.', '.', '1', '0']\n",
    "valid_values = ['1/1', '0/0', '0/1', '2/2', '1/2']\n",
    "bk_list = ['1']\n",
    "gen_dosage = {'0/0': 0, '0/1': 1, '1/1': 2, '1/2': 3, '2/2': 4}\n",
    "imp_dosage = {'0|0': 0, '0|1': 1, '1|0': 1, '1|1': 2, '1|2': 3, '2|1': 3, '2|2': 4}\n",
    "\n",
    "# values imputed not present in snps array which alterate the jaccard score calculation\n",
    "not_consider = ['0|2', '2|0','3|0', '0|3', '3|3']\n",
    "\n",
    "dict_matching = []\n",
    "for chrom in chromosomes_str:\n",
    "    dict_post = []\n",
    "    for bk in bk_list:\n",
    "        for sc in sc_list:\n",
    "        \n",
    "            # load vcfs\n",
    "            df_check = pd.read_csv(os.path.join(output_dir, f'mismatc/check/GM12878_mismatc_bk{bk}_sc{sc}_chr{chrom}_check.vcf.gz'), header=0,sep='\\t', dtype='object')\n",
    "            df_imputed = pd.read_csv(os.path.join(output_dir, f'mismatc/imputed/GM12878_mismatc_imputed_bk{bk}_sc{sc}_chr{chrom}_test.vcf.gz'), header=8,sep='\\t', dtype='object')\n",
    "\n",
    "            # filter imputed vcf\n",
    "            df_imputed_check = df_imputed[df_imputed['POS'].isin(df_check['POS'].tolist())]\n",
    "            df_imputed_check.iloc[:,9] = df_imputed_check.iloc[:,9].str.split(':').str.get(0)\n",
    "            df_imputed_check = df_imputed_check[~df_imputed_check.iloc[:, 9].isin(not_consider)]\n",
    "            df_imputed_check.drop_duplicates(subset=['POS'], inplace=True) \n",
    "\n",
    "            # filter check vf\n",
    "            df_check_final = df_check[df_check['POS'].isin(df_imputed_check['POS'].tolist())]\n",
    "\n",
    "            # check\n",
    "            print(f'matched_bk{bk}_sc{sc}_chr{chrom}_check.vcf.gz vs imputed_matched_bk{bk}_sc{sc}_chr{chrom}_test')\n",
    "            print(df_check.shape[0], df_imputed_check.shape[0])\n",
    "            print(df_check_final.shape[0], df_imputed_check.shape[0])\n",
    "\n",
    "            # calculate jaccard score\n",
    "            vec_bulk = df_check_final.iloc[:,9].map(gen_dosage).tolist()\n",
    "            vec_sing = df_imputed_check.iloc[:,9].map(imp_dosage).tolist()\n",
    "\n",
    "            j_value = jaccard_score(vec_bulk, vec_sing, average='micro')\n",
    "            dict_matching.append(j_value)\n",
    "\n",
    "            dict_js = {'sc' : sc, 'bk' : bk, 'chromosome' : chrom, 'j_score': j_value}\n",
    "            \n",
    "            dict_post.append(dict_js)\n",
    "\n",
    "    pd.DataFrame(dict_post).to_excel(os.path.join(result_dir, f'mismatc/jaccard_scores_chr{chrom}_micro_mismatched.xlsx'), index=False)\n",
    "    # append to a new dataframe\n",
    "            "
   ]
  },
  {
   "attachments": {},
   "cell_type": "markdown",
   "metadata": {},
   "source": [
    "### Second matching"
   ]
  },
  {
   "cell_type": "code",
   "execution_count": null,
   "metadata": {},
   "outputs": [],
   "source": [
    "sc_list"
   ]
  },
  {
   "cell_type": "code",
   "execution_count": null,
   "metadata": {},
   "outputs": [],
   "source": [
    "for bk in bk_list:\n",
    "    for sc in sc_list:\n",
    "        for chrom in chromosomes_str:\n",
    "            df_bk = pd.read_csv(f'data/GM12878_gDNA_{bk}.vcf', header=30,sep='\\t', dtype='object')\n",
    "            df_sc = pd.read_csv(f'data/GM12878_SC_{sc}.vcf.gz', header=30,sep='\\t', dtype='object')\n",
    "\n",
    "            merged_df = pd.concat([df_bk, df_sc.iloc[:,9]], axis=1)\n",
    "            merged_df_auto = merged_df[merged_df.iloc[:,0].isin(chromosomes_str)]\n",
    "            \n",
    "            merged_df_auto.iloc[:, 9] = merged_df_auto.iloc[:, 9].str.split(':').str[0]\n",
    "            merged_df_auto.iloc[:, 10] = merged_df_auto.iloc[:, 10].str.split(':').str[0]\n",
    "            \n",
    "            merged_df_auto['FORMAT'] = 'GT'\n",
    "\n",
    "            merged_df_auto.drop_duplicates(subset = ['POS'], inplace =True)\n",
    "\n",
    "            merged_df_auto = merged_df_auto[~merged_df_auto.iloc[:,9].isin(wrong_values)]\n",
    "\n",
    "            merged_df_auto['second_match'] = (merged_df_auto.iloc[:, 9] == merged_df_auto.iloc[:, 10]).astype(int)\n",
    "\n",
    "            sc_test = merged_df_auto[merged_df_auto['second_match']== 1].drop(columns=merged_df_auto.columns[[9,11]])\n",
    "            bk_check = merged_df_auto[merged_df_auto['second_match']== 0].drop(columns=merged_df_auto.columns[[10,11]])\n",
    "\n",
    "            #if './.' in bk_check.iloc[:, 9].unique():\n",
    "            #    raise ValueError(\"Error: Column 9 of gDNA contains './.' among the unique positions and cannot contain missing values\")\n",
    "            #elif './.' not in sc_test.iloc[:, 9].unique():\n",
    "            #    raise ValueError(\"Error: Column 9 of scDNA does not contain './.' among the unique positions and should contain missing values\")\n",
    "            \n",
    "            sc_test_chr = sc_test[sc_test['#CHROM'] == chrom]\n",
    "            bk_check_chr = bk_check[bk_check['#CHROM'] == chrom]\n",
    "\n",
    "            sc_test_chr.to_csv(os.path.join(output_dir, f'second/test/GM12878_bk{bk}_sc{sc}_chr{chrom}_test.vcf'), sep='\\t', index=False)\n",
    "            bk_check_chr.to_csv(os.path.join(output_dir, f'second/check/GM12878_bk{bk}_sc{sc}_chr{chrom}_check.vcf'), sep='\\t', index=False)    "
   ]
  },
  {
   "cell_type": "code",
   "execution_count": null,
   "metadata": {},
   "outputs": [],
   "source": [
    "df_bk = pd.read_csv(os.path.join(output_dir, f'second/check/GM12878_bk1_sc129_chr1_check.vcf'), header=0,sep='\\t', dtype='object')"
   ]
  },
  {
   "cell_type": "code",
   "execution_count": null,
   "metadata": {},
   "outputs": [],
   "source": [
    "df_bk"
   ]
  },
  {
   "cell_type": "code",
   "execution_count": null,
   "metadata": {},
   "outputs": [],
   "source": [
    "wrong_values = ['./.', '.', '1', '0']\n",
    "valid_values = ['1/1', '0/0', '0/1', '2/2', '1/2']\n",
    "bk_list = ['1']\n",
    "gen_dosage = {'0/0': 0, '0/1': 1, '1/1': 2, '1/2': 3, '2/2': 4}\n",
    "imp_dosage = {'0|0': 0, '0|1': 1, '1|0': 1, '1|1': 2, '1|2': 3, '2|1': 3, '2|2': 4}\n",
    "\n",
    "# values imputed not present in snps array which alterate the jaccard score calculation\n",
    "not_consider = ['0|2', '2|0','3|0', '0|3', '3|3']\n",
    "\n",
    "dict_second = []\n",
    "for chrom in chromosomes_str:\n",
    "    dict_post = []\n",
    "    for bk in bk_list:\n",
    "        for sc in sc_list:\n",
    "        \n",
    "            # load vcfs\n",
    "            df_check = pd.read_csv(os.path.join(output_dir, f'second/check/GM12878_bk{bk}_sc{sc}_chr{chrom}_check.vcf'), header=0,sep='\\t', dtype='object')\n",
    "            df_imputed = pd.read_csv(os.path.join(output_dir, f'second/imputed/GM12878_second_imputed_bk{bk}_sc{sc}_chr{chrom}_test.vcf.gz'), header=8,sep='\\t', dtype='object')\n",
    "\n",
    "            # filter imputed vcf\n",
    "            df_imputed_check = df_imputed[df_imputed['POS'].isin(df_check['POS'].tolist())]\n",
    "            df_imputed_check.iloc[:,9] = df_imputed_check.iloc[:,9].str.split(':').str.get(0)\n",
    "            df_imputed_check = df_imputed_check[~df_imputed_check.iloc[:, 9].isin(not_consider)]\n",
    "            df_imputed_check.drop_duplicates(subset=['POS'], inplace=True) \n",
    "\n",
    "            # filter check vf\n",
    "            df_check_final = df_check[df_check['POS'].isin(df_imputed_check['POS'].tolist())]\n",
    "\n",
    "            # check\n",
    "            #print(f'matched_bk{bk}_sc{sc}_chr{chrom}_check.vcf.gz vs imputed_matched_bk{bk}_sc{sc}_chr{chrom}_test')\n",
    "            #print(df_check.shape[0], df_imputed_check.shape[0])\n",
    "            #print(df_check_final.shape[0], df_imputed_check.shape[0])\n",
    "\n",
    "            # calculate jaccard score\n",
    "            vec_bulk = df_check_final.iloc[:,9].map(gen_dosage).tolist()\n",
    "            vec_sing = df_imputed_check.iloc[:,9].map(imp_dosage).tolist()\n",
    "\n",
    "            j_value = jaccard_score(vec_bulk, vec_sing, average='micro')\n",
    "            dict_second.append(j_value)\n",
    "\n",
    "            dict_js = {'sc' : sc, 'bk' : bk, 'chromosome' : chrom, 'j_score': j_value}\n",
    "            \n",
    "            dict_post.append(dict_js)\n",
    "\n",
    "    pd.DataFrame(dict_post).to_excel(os.path.join(result_dir, f'second/jaccard_scores_chr{chrom}_micro_second.xlsx'), index=False)\n",
    "    # append to a new dataframe\n",
    "            "
   ]
  },
  {
   "cell_type": "code",
   "execution_count": null,
   "metadata": {},
   "outputs": [],
   "source": [
    "# load excels jaccard score\n",
    "file_names = [os.path.join(result_dir,f'second/jaccard_scores_chr{chrom}_micro_second.xlsx') for chrom in chromosomes_str]\n",
    "dfs = [pd.read_excel(file) for file in file_names] # read each file into a list of DataFrames\n",
    "result = pd.concat(dfs)\n",
    "\n",
    "grouped_data = result.groupby('chromosome').mean().reset_index()"
   ]
  },
  {
   "cell_type": "code",
   "execution_count": null,
   "metadata": {},
   "outputs": [],
   "source": [
    "fig = px.scatter(grouped_data, x=\"chromosome\", y=\"j_score\",\n",
    "                 title=\"Jaccard scores by chromosome - second genotypes - grouped by chromosome (1bk 5sc, mean)\",\n",
    "                 labels={\"salary\":\"Annual Salary (in thousands)\"} # customize axis label\n",
    "                )\n",
    "fig.update_traces(marker_size=10)\n",
    "fig.update_layout(yaxis=dict(range=[0.992, 1]),\n",
    "                             xaxis=dict(tickmode='array', tickvals=np.arange(1, 23)),\n",
    "                             yaxis_title='Jaccard scores',\n",
    "                             xaxis_title='Chromosomes')\n",
    "fig.show()"
   ]
  },
  {
   "cell_type": "code",
   "execution_count": null,
   "metadata": {},
   "outputs": [],
   "source": [
    "fig, ax = plt.subplots(figsize=(8, 6)) # set the figure size\n",
    "ax = sns.scatterplot(data=grouped_data, x='chromosome', y='j_score')\n",
    "ax.set_title('Jaccard scores by chromosome considering matched genotypes')\n",
    "# took same SNPs, masking 10% and impute back\n",
    "ax.set_xlabel('Chromosomes')\n",
    "ax.set_ylabel('Jaccard scores')\n",
    "ax.set_xticks(range(1, len(grouped_data) + 1))\n",
    "#plt.show()\n",
    "plt.savefig(os.path.join(plot_dir, 'matched_scatterplot_all_chromosomes.pdf'))"
   ]
  },
  {
   "cell_type": "code",
   "execution_count": null,
   "metadata": {},
   "outputs": [],
   "source": [
    "df_bk.shape"
   ]
  },
  {
   "cell_type": "code",
   "execution_count": null,
   "metadata": {},
   "outputs": [],
   "source": [
    "df_sc = pd.read_csv(os.path.join(output_dir, f'second/test/GM12878_bk1_sc129_chr1_test.vcf'), header=0,sep='\\t', dtype='object')"
   ]
  },
  {
   "cell_type": "code",
   "execution_count": null,
   "metadata": {},
   "outputs": [],
   "source": [
    "df_sc.iloc[:,9].unique()"
   ]
  },
  {
   "cell_type": "code",
   "execution_count": null,
   "metadata": {},
   "outputs": [],
   "source": [
    "df_sc.shape"
   ]
  },
  {
   "cell_type": "code",
   "execution_count": null,
   "metadata": {},
   "outputs": [],
   "source": [
    "merged_df = pd.concat([bk1, sc129.iloc[:,9]], axis=1)\n",
    "\n",
    "merged_df_auto = merged_df[merged_df.iloc[:,0].isin(chromosomes_str)]\n",
    "merged_df_auto.iloc[:, 9] = merged_df_auto.iloc[:, 9].str.split(':').str[0]\n",
    "merged_df_auto.iloc[:, 10] = merged_df_auto.iloc[:, 10].str.split(':').str[0]\n",
    "merged_df_auto['FORMAT'] = 'GT'\n",
    "\n",
    "merged_df_auto.drop_duplicates(subset = ['POS'], inplace =True)\n",
    "\n",
    "merged_df_auto = merged_df_auto[~merged_df_auto.iloc[:,9].isin(wrong_values)]\n",
    "\n",
    "\n",
    "merged_df_auto['second_match'] = (merged_df_auto.iloc[:, 9] == merged_df_auto.iloc[:, 10]).astype(int)\n",
    "\n",
    "\n",
    "sc_test = merged_df_auto[merged_df_auto['second_match']== 1].drop(columns=merged_df_auto.columns[[9,11]])\n",
    "bk_check = merged_df_auto[merged_df_auto['second_match']== 0].drop(columns=merged_df_auto.columns[[10,11]])\n",
    "\n",
    "pos_check = bk_check.POS.tolist()\n",
    "#merged_df_auto.POS.value_counts()"
   ]
  },
  {
   "cell_type": "code",
   "execution_count": null,
   "metadata": {},
   "outputs": [],
   "source": [
    "# Verifica se la colonna 9 del DataFrame bk_check contiene './.' tra le posizioni uniche\n",
    "if './.' in bk_check.iloc[:, 9].unique():\n",
    "    raise ValueError(\"Errore: la colonna 9 del DataFrame bk_check contiene './.' tra le posizioni uniche e non può contenere missing values\")\n",
    "\n",
    "# Verifica se la colonna 9 del DataFrame sc_test non contiene './.' tra le posizioni uniche\n",
    "if './.' in sc_test.iloc[:, 9].unique():\n",
    "    raise ValueError(\"Errore: la colonna 9 del DataFrame sc_test non contiene './.' tra le posizioni uniche e deve contenere missing values\")\n"
   ]
  },
  {
   "cell_type": "code",
   "execution_count": null,
   "metadata": {},
   "outputs": [],
   "source": [
    "bk_check.iloc[:,9].unique()"
   ]
  },
  {
   "cell_type": "code",
   "execution_count": null,
   "metadata": {},
   "outputs": [],
   "source": [
    "sc_test.iloc[:,9].unique()"
   ]
  },
  {
   "cell_type": "code",
   "execution_count": null,
   "metadata": {},
   "outputs": [],
   "source": [
    "df_bk = bk1[bk1.iloc[:,0].isin(chromosomes_str)]\n",
    "df_sing = sc129[sc129.iloc[:,0].isin(chromosomes_str)]"
   ]
  },
  {
   "cell_type": "code",
   "execution_count": null,
   "metadata": {},
   "outputs": [],
   "source": [
    "df_bk_filt = df_bk[~df_bk.iloc[:,9].isin(wrong_values)]"
   ]
  },
  {
   "cell_type": "code",
   "execution_count": null,
   "metadata": {},
   "outputs": [],
   "source": [
    "df_bk_filt"
   ]
  },
  {
   "cell_type": "code",
   "execution_count": null,
   "metadata": {},
   "outputs": [],
   "source": [
    "df_bk_filt.iloc[:,9].unique()"
   ]
  },
  {
   "cell_type": "code",
   "execution_count": null,
   "metadata": {},
   "outputs": [],
   "source": [
    "df_bk_filt.shape"
   ]
  },
  {
   "cell_type": "code",
   "execution_count": null,
   "metadata": {},
   "outputs": [],
   "source": [
    "df_bk_filt.drop_duplicates(subset=['POS'], inplace=True) \n",
    "df_bk_filt.shape"
   ]
  },
  {
   "cell_type": "code",
   "execution_count": null,
   "metadata": {},
   "outputs": [],
   "source": [
    "pos_bk_filt = df_bk_filt.POS.tolist()"
   ]
  },
  {
   "cell_type": "code",
   "execution_count": null,
   "metadata": {},
   "outputs": [],
   "source": [
    "pos_bk_filt"
   ]
  },
  {
   "cell_type": "code",
   "execution_count": null,
   "metadata": {},
   "outputs": [],
   "source": [
    "df_sc_filt = df_sing[df_sing['POS'].isin(pos_bk_filt)]"
   ]
  },
  {
   "cell_type": "code",
   "execution_count": null,
   "metadata": {},
   "outputs": [],
   "source": [
    "df_sc_filt.drop_duplicates(subset=['POS'], inplace=True) "
   ]
  },
  {
   "cell_type": "code",
   "execution_count": null,
   "metadata": {},
   "outputs": [],
   "source": [
    "df_sc_filt"
   ]
  },
  {
   "cell_type": "code",
   "execution_count": null,
   "metadata": {},
   "outputs": [],
   "source": [
    "df_sc_filt.iloc[:, 9] = df_sc_filt.iloc[:, 9].str.split(':').str[0]"
   ]
  },
  {
   "cell_type": "code",
   "execution_count": null,
   "metadata": {},
   "outputs": [],
   "source": [
    "print(df_sc_filt.shape)\n",
    "print(df_bk_filt.shape)"
   ]
  },
  {
   "cell_type": "code",
   "execution_count": null,
   "metadata": {},
   "outputs": [],
   "source": [
    "df_sc_filt"
   ]
  },
  {
   "cell_type": "code",
   "execution_count": null,
   "metadata": {},
   "outputs": [],
   "source": [
    "merged_df = pd.concat([df_bk_filt, df_sc_filt.iloc[:,9]], axis=1)"
   ]
  },
  {
   "cell_type": "code",
   "execution_count": null,
   "metadata": {},
   "outputs": [],
   "source": [
    "df_sc_filt[df_sc_filt.index == 28588]"
   ]
  },
  {
   "cell_type": "code",
   "execution_count": null,
   "metadata": {},
   "outputs": [],
   "source": [
    "merged_df"
   ]
  },
  {
   "cell_type": "code",
   "execution_count": null,
   "metadata": {},
   "outputs": [],
   "source": [
    "wrong_values = ['./.','.', '1', '0']\n",
    "\n",
    "for bk in bk_list:\n",
    "    for sc in sc_list:\n",
    "        \n",
    "        print(f'starting merging datasets bulk {bk} and single cell {sc}')\n",
    "        df_bk = pd.read_csv(f'data/GM12878_gDNA_{bk}.vcf', header=30,sep='\\t', dtype='object')\n",
    "        df_sing = pd.read_csv(f'data/GM12878_SC_{sc}.vcf.gz', header=30,sep='\\t', dtype='object')\n",
    "\n",
    "        column_names = df_bk.columns.to_list()\n",
    "        \n",
    "        df_bk = df_bk[df_bk.iloc[:,0].isin(chromosomes_str)]\n",
    "        df_sing = df_sing[df_sing.iloc[:,0].isin(chromosomes_str)]\n",
    "\n",
    "        df_bk.iloc[:, 9] = df_bk.iloc[:, 9].str.split(':').str[0]\n",
    "\n",
    "        df_bk_filt = df_bk[~df_bk.iloc[:,9].isin(wrong_values)]\n",
    "        \n",
    "        pos_bk_filt = df_bk_filt.POS.tolist()\n",
    "\n",
    "        df_sc_filt = df_sing[df_sing['POS'].isin(pos_bk_filt)]\n",
    "\n",
    "        merged_df = pd.concat([df_bk_filt, df_sc_filt.iloc[:,9]], axis=1)\n",
    "\n",
    "\n",
    "        #merged_df.iloc[:,9] = merged_df.iloc[:,9].apply(lambda x: x.split(':')[0])\n",
    "        #merged_df.iloc[:,10] = merged_df.iloc[:,10].apply(lambda x: x.split(':')[0])\n",
    "\n",
    "        merged_df['FORMAT'] = 'GT'\n",
    "\n",
    "        merged_df['match'] = (merged_df.iloc[:,9] == merged_df.iloc[:,10]).astype(int)\n",
    "\n",
    "        valid_values = ['1/1', '0/0', '0/1', '2/2', '1/2']\n",
    "        merged_df_filt = merged_df[merged_df.iloc[:,9].isin(valid_values)]\n",
    "        \n",
    "        print(merged_df_filt.shape[0])\n",
    "\n",
    "        merged_df_filt_test = merged_df_filt[merged_df_filt['match']==1] # tenere bulk 9\n",
    "        merged_df_filt_check = merged_df_filt[merged_df_filt['match']==0] # tenere sc 10\n",
    "\n",
    "        \n",
    "#####\n",
    "        merged_df_filt_test.to_csv(os.path.join(output_dir, f'second/GM12878_matched_bk{bk}_sc{sc}_chrs_test.vcf'), sep='\\t', index=False)\n",
    "\n",
    "        #print(f'dimension before filtering: {merged_df.shape[0]}')\n",
    "\n",
    "        #merged_df['match'] = (merged_df.iloc[:,9] == merged_df.iloc[:,10]).astype(int)\n",
    "\n",
    "        #valid_values = ['1/1', '0/0', '0/1', '2/2', '1/2']\n",
    "        #merged_df_filt = merged_df[merged_df.iloc[:,9].isin(valid_values)]\n",
    "        \n",
    "\n",
    "        #print(merged_df_filt.shape[0])\n",
    "\n",
    "        #merged_df_filt_matched = merged_df_filt[merged_df_filt['match']==1]\n",
    "        #merged_df_filt_mismatc = merged_df_filt[merged_df_filt['match']==0]\n",
    "\n",
    "        #merged_df_filt_matched.to_csv(os.path.join(output_dir, f'matched/GM12878_matched_bk{bk}_sc{sc}_chrs.vcf'), sep='\\t', index=False)\n",
    "        #merged_df_filt_mismatc.to_csv(os.path.join(output_dir, f'mismatc/GM12878_mismatc_bk{bk}_sc{sc}_chrs.vcf.gz'), sep='\\t', index=False)\n",
    "\n",
    "        #print('merging datasets finished')\n",
    "\n",
    "        #for chrom in chromosomes_str:\n",
    "            # splitting chromosomes\n",
    "            \n",
    "        #    merged_df_filt_matched_chr = merged_df_filt_matched[merged_df_filt_matched['#CHROM'] == chrom]\n",
    "        #    merged_df_filt_mismatc_chr = merged_df_filt_mismatc[merged_df_filt_mismatc['#CHROM'] == chrom]\n",
    "\n",
    "        #    merged_df_filt_matched_chr.to_csv(os.path.join(output_dir, f'matched/GM12878_matched_bk{bk}_sc{sc}_chrom{chrom}.vcf'), sep='\\t', index=False)\n",
    "        #    merged_df_filt_mismatc_chr.to_csv(os.path.join(output_dir, f'mismatc/GM12878_mismatc_bk{bk}_sc{sc}_chrom{chrom}.vcf.gz'), sep='\\t', index=False)"
   ]
  },
  {
   "cell_type": "code",
   "execution_count": null,
   "metadata": {},
   "outputs": [],
   "source": [
    "pd.read_csv(os.path.join(output_dir, f'second/GM12878_matched_bk1_sc129_chrs_test.vcf'), header=0,sep='\\t', dtype='object')"
   ]
  },
  {
   "cell_type": "code",
   "execution_count": null,
   "metadata": {},
   "outputs": [],
   "source": [
    "sc_merg_chr_imputed = sc_merg_chr_imputed[~sc_merg_chr_imputed.iloc[:, 9:].isin(['./.']).any(axis=1)]"
   ]
  },
  {
   "cell_type": "code",
   "execution_count": null,
   "metadata": {},
   "outputs": [],
   "source": [
    "perc = 10\n",
    "table = []\n",
    "\n",
    "for bk in bk_list:\n",
    "    for sc in sc_list:\n",
    "        for chrom in chromosomes_str:\n",
    "\n",
    "            df = pd.read_csv(os.path.join(output_dir, f'mismatc/GM12878_mismatc_bk{bk}_sc{sc}_chrom{chrom}.vcf.gz'), header=0, sep='\\t', dtype='object')\n",
    "            \n",
    "            rd.seed(1)\n",
    "            pos = df['POS'].tolist()\n",
    "            pos_seed = rd.sample(pos, round((len(pos)*(int(perc)/100))))\n",
    "\n",
    "            position_masked = os.path.join(pos_dir, f'mismatc/pos_masked_mismatched_{bk}_{sc}_chr{chrom}.txt')\n",
    "            with open(position_masked,'w') as output:\n",
    "                output.write(str(pos_seed))\n",
    "\n",
    "            # creo i dataframe che mi servono da testare e check\n",
    "            df_test = df[~df['POS'].isin(pos_seed)]\n",
    "            df_check = df[df['POS'].isin(pos_seed)]\n",
    "            df_test.drop([df_test.columns[9],'match'], axis=1, inplace=True)\n",
    "\n",
    "            df_test.to_csv(os.path.join(output_dir, f'mismatc/test/GM12878_mismatc_bk{bk}_sc{sc}_chr{chrom}_test.vcf.gz'), sep='\\t', index=False)\n",
    "            df_check.to_csv(os.path.join(output_dir, f'mismatc/check/GM12878_mismatc_bk{bk}_sc{sc}_chr{chrom}_check.vcf.gz'), sep='\\t', index=False)\n",
    "\n",
    "            num_start = df.shape[0]\n",
    "            num_end = df_test.shape[0]\n",
    "\n",
    "            dic_table = {'chromosome':chrom, 'bulk':bk, 'sing':sc, 'num_start':num_start, 'num_end':num_end, 'removed':(num_start - num_end)}\n",
    "            table.append(dic_table)\n",
    "\n",
    "pd.DataFrame(table).to_excel(os.path.join(result_dir, f'mismatc/general_statistics_mismatched.xlsx'), index=False)"
   ]
  },
  {
   "attachments": {},
   "cell_type": "markdown",
   "metadata": {},
   "source": [
    "### Plots"
   ]
  },
  {
   "cell_type": "code",
   "execution_count": null,
   "metadata": {},
   "outputs": [],
   "source": [
    "# load excels jaccard score\n",
    "file_names = [os.path.join(result_dir,f'matched/jaccard_scores_chr{chrom}_micro_matched.xlsx') for chrom in chromosomes_str]\n",
    "dfs = [pd.read_excel(file) for file in file_names] # read each file into a list of DataFrames\n",
    "result = pd.concat(dfs)"
   ]
  },
  {
   "cell_type": "code",
   "execution_count": null,
   "metadata": {},
   "outputs": [],
   "source": [
    "result.head(20)"
   ]
  },
  {
   "cell_type": "code",
   "execution_count": null,
   "metadata": {},
   "outputs": [],
   "source": [
    "grouped_data = result.groupby('chromosome').mean().reset_index()"
   ]
  },
  {
   "cell_type": "code",
   "execution_count": null,
   "metadata": {},
   "outputs": [],
   "source": [
    "grouped_data"
   ]
  },
  {
   "cell_type": "code",
   "execution_count": null,
   "metadata": {},
   "outputs": [],
   "source": [
    "fig = px.scatter(grouped_data, x=\"chromosome\", y=\"j_score\",\n",
    "                 title=\"Jaccard scores by chromosome - matched genotypes - grouped by chromosome (1bk 5sc, mean)\",\n",
    "                 labels={\"salary\":\"Annual Salary (in thousands)\"} # customize axis label\n",
    "                )\n",
    "fig.update_traces(marker_size=10)\n",
    "fig.update_layout(yaxis=dict(range=[0.992, 1]),\n",
    "                             xaxis=dict(tickmode='array', tickvals=np.arange(1, 23)),\n",
    "                             yaxis_title='Jaccard scores',\n",
    "                             xaxis_title='Chromosomes')\n",
    "fig.show()"
   ]
  },
  {
   "cell_type": "code",
   "execution_count": null,
   "metadata": {},
   "outputs": [],
   "source": [
    "fig, ax = plt.subplots(figsize=(8, 6)) # set the figure size\n",
    "ax = sns.scatterplot(data=grouped_data, x='chromosome', y='j_score')\n",
    "ax.set_title('Jaccard scores by chromosome considering matched genotypes')\n",
    "# took same SNPs, masking 10% and impute back\n",
    "ax.set_xlabel('Chromosomes')\n",
    "ax.set_ylabel('Jaccard scores')\n",
    "ax.set_xticks(range(1, len(grouped_data) + 1))\n",
    "#plt.show()\n",
    "plt.savefig(os.path.join(plot_dir, 'matched_scatterplot_all_chromosomes.pdf'))"
   ]
  },
  {
   "cell_type": "code",
   "execution_count": null,
   "metadata": {},
   "outputs": [],
   "source": [
    "# load excels jaccard score\n",
    "file_names = [os.path.join(result_dir,f'mismatc/jaccard_scores_chr{chrom}_micro_mismatched.xlsx') for chrom in chromosomes_str]\n",
    "dfs = [pd.read_excel(file) for file in file_names] # read each file into a list of DataFrames\n",
    "result = pd.concat(dfs)\n",
    "\n",
    "grouped_data = result.groupby('chromosome').mean().reset_index()\n",
    "\n",
    "fig, ax = plt.subplots(figsize=(8, 6)) # set the figure size\n",
    "ax = sns.scatterplot(data=grouped_data, x='chromosome', y='j_score')\n",
    "ax.set_title('Jaccard scores by chromosome considering mismatched genotypes')\n",
    "# took same SNPs, masking 10% and impute back\n",
    "ax.set_xlabel('Chromosomes')\n",
    "ax.set_ylabel('Jaccard scores')\n",
    "ax.set_xticks(range(1, len(grouped_data) + 1))\n",
    "#plt.show()\n",
    "plt.savefig(os.path.join(plot_dir, 'mismatched_scatterplot_all_chromosomes.pdf'))\n",
    "#plt.savefig()"
   ]
  }
 ],
 "metadata": {
  "kernelspec": {
   "display_name": "convparq",
   "language": "python",
   "name": "python3"
  },
  "language_info": {
   "codemirror_mode": {
    "name": "ipython",
    "version": 3
   },
   "file_extension": ".py",
   "mimetype": "text/x-python",
   "name": "python",
   "nbconvert_exporter": "python",
   "pygments_lexer": "ipython3",
   "version": "3.10.8"
  },
  "orig_nbformat": 4
 },
 "nbformat": 4,
 "nbformat_minor": 2
}
