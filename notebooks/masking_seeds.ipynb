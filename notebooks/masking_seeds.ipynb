{
 "cells": [
  {
   "attachments": {},
   "cell_type": "markdown",
   "metadata": {},
   "source": [
    "## Seeds experiments\n",
    "- This experiment tests the samples present in the single cell line GM12878 ('201666260058_R06C01', '201666260058_R06C02', '201662330194_R02C01','201662330194_R01C01' and '201662330194_R01C02').\n",
    "- For each sample, 50 positions/SNPs were masked in a random and reproducible way using the random module, the sample library and assigning seeds (1 to 50).\n",
    "- Thus, 50 SNPs for each seed are randomly masked and imputed back in the single cell SNParray data, finally compared with the bulk SNP array data.\n",
    "- Similarity coefficients are calculated before (to test the initial situation) and after imputation (to test a possible improvement).\n",
    "- A total of 1100 imputations were performed in the GenomeDK server using 25 CPUs. A total of 5500 jaccard scores were calculated referring to 22 chromosomes, excluding sex chromosomes.\n",
    "- The calculation of the coefficients is performed via the sklearn.metrics package by the jaccard_score module.\n",
    "- Using scatterplots, the jaccard scores before and after imputation are plotted.\n",
    "- Subsequently, a paired test highlights the significant difference for each chromosome relative to the similarity coefficients.\n",
    "\n",
    "\n",
    "attenzione che nel file single cell abbiamo i campioni rinominati nello stesso ordine del file bulk!\n",
    "i nomi delle variabili sono state cambiate ma l'ordine e' lo stesso quindi possiamo ricostruire l'ordine iniziale "
   ]
  },
  {
   "cell_type": "code",
   "execution_count": null,
   "metadata": {},
   "outputs": [],
   "source": [
    "# import libraries\n",
    "# ! pip install openpyxl\n",
    "# ! pip install -U kaleido\n",
    "# ! pip install ipykernel\n",
    "# ! \n",
    "import pandas as pd\n",
    "import numpy as np\n",
    "import random as rd\n",
    "import subprocess\n",
    "import plotly.express as px\n",
    "import plotly.graph_objects as go\n",
    "import matplotlib.pyplot as plt\n",
    "from sklearn.metrics import jaccard_score\n",
    "import scipy as sp\n",
    "import scipy.stats as stats\n",
    "import openpyxl\n",
    "import os\n",
    "import seaborn as sns\n",
    "\n",
    "# avoid warnings\n",
    "pd.options.mode.chained_assignment = None"
   ]
  },
  {
   "cell_type": "code",
   "execution_count": null,
   "metadata": {},
   "outputs": [],
   "source": [
    "# load datasets\n",
    "bk_1 = pd.read_csv('data/GM12878_gDNA_1.vcf', header=30,sep='\\t', dtype='object')\n",
    "bk_2 = pd.read_csv('data/GM12878_gDNA_2.vcf', header=30,sep='\\t', dtype='object')\n",
    "bk_3 = pd.read_csv('data/GM12878_gDNA_3.vcf', header=30,sep='\\t', dtype='object')\n",
    "bk_4 = pd.read_csv('data/GM12878_gDNA_4.vcf', header=30,sep='\\t', dtype='object')\n",
    "bk_5 = pd.read_csv('data/GM12878_gDNA_5.vcf', header=30,sep='\\t', dtype='object')\n",
    "sc_129 = pd.read_csv('data/GM12878_SC_129.vcf.gz', header=30,sep='\\t', dtype='object')\n",
    "sc_130 = pd.read_csv('data/GM12878_SC_130.vcf.gz', header=30,sep='\\t', dtype='object')\n",
    "sc_131 = pd.read_csv('data/GM12878_SC_131.vcf.gz', header=30,sep='\\t', dtype='object')\n",
    "sc_132 = pd.read_csv('data/GM12878_SC_132.vcf.gz', header=30,sep='\\t', dtype='object')\n",
    "sc_133 = pd.read_csv('data/GM12878_SC_133.vcf.gz', header=30,sep='\\t', dtype='object')\n",
    "\n",
    "# merge datasets\n",
    "bk_merg = pd.concat([bk_1, bk_2.iloc[:,-1], bk_3.iloc[:,-1],  bk_4.iloc[:,-1],  bk_5.iloc[:,-1]], axis=1)\n",
    "sc_merg = pd.concat([sc_129, sc_130.iloc[:,-1], sc_131.iloc[:,-1],  sc_132.iloc[:,-1],  sc_133.iloc[:,-1]], axis=1)"
   ]
  },
  {
   "cell_type": "code",
   "execution_count": null,
   "metadata": {},
   "outputs": [],
   "source": [
    "bk_merg.head(3)"
   ]
  },
  {
   "cell_type": "code",
   "execution_count": null,
   "metadata": {},
   "outputs": [],
   "source": [
    "sc_merg.head(3)"
   ]
  },
  {
   "cell_type": "raw",
   "metadata": {},
   "source": [
    "# set the paths\n",
    "result_dir = '../server/results/percentages/'\n",
    "output_dir = '../server/outputs/percentages/'\n",
    "plot_dir = '../server/plots/percentages/'"
   ]
  },
  {
   "cell_type": "code",
   "execution_count": null,
   "metadata": {},
   "outputs": [],
   "source": [
    "# set the paths\n",
    "result_dir = '../server/results/seeds/'\n",
    "output_dir = '../server/outputs/seeds/'\n",
    "plot_dir = '../server/plots/seeds/'"
   ]
  },
  {
   "cell_type": "code",
   "execution_count": null,
   "metadata": {},
   "outputs": [],
   "source": [
    "# set variables\n",
    "#samples = ['201666260058_R06C01', '201666260058_R06C02', '201662330194_R02C01', '201662330194_R01C01', '201662330194_R01C02']\n",
    "chromosomes = list(range(1,23))\n",
    "chromosomes_str = [str(chrom) for chrom in chromosomes]\n",
    "bulk_ids = ['1','2','3','4','5']\n",
    "singlecell_ids = ['129','130','131','132','133']"
   ]
  },
  {
   "cell_type": "code",
   "execution_count": null,
   "metadata": {},
   "outputs": [],
   "source": [
    "#all_positions = bk_merg.POS.to_list()\n",
    "column_names_original_bk = bk_merg.columns.to_list()\n",
    "column_names_original_sc = sc_merg.columns.to_list()\n",
    "column_names = ['#CHROM', 'POS', 'ID', 'REF', 'ALT', 'QUAL', 'FILTER', 'INFO', 'FORMAT', 'rep_1', 'rep_2', 'rep_3', 'rep_4', 'rep_5']"
   ]
  },
  {
   "cell_type": "raw",
   "metadata": {},
   "source": [
    "sc_merg.groupby('#CHROM').size().sort_values(ascending=False).to_excel(os.path.join(result_dir, 'chromosomes_data_dimensions.xlsx'))"
   ]
  },
  {
   "cell_type": "code",
   "execution_count": null,
   "metadata": {},
   "outputs": [],
   "source": [
    "# splitting merged dataframes for each chromosome\n",
    "for chrom in chromosomes_str:\n",
    "    bk_merg_chr = bk_merg[bk_merg['#CHROM'] == chrom]\n",
    "    sc_merg_chr = sc_merg[sc_merg['#CHROM'] == chrom]\n",
    "\n",
    "    bk_merg_chr.columns = column_names\n",
    "    sc_merg_chr.columns = column_names\n",
    "\n",
    "    bk_merg_chr['FORMAT'] = 'GT'\n",
    "    sc_merg_chr['FORMAT'] = 'GT'\n",
    "\n",
    "    bk_merg_chr.iloc[:,9:] = bk_merg_chr.iloc[:,9:].apply(lambda x : x.str.split(':').str.get(0))\n",
    "    sc_merg_chr.iloc[:,9:] = sc_merg_chr.iloc[:,9:].apply(lambda x : x.str.split(':').str.get(0))\n",
    "\n",
    "    bk_merg_chr.to_csv(os.path.join(output_dir, f'merged_chr/GM12878_gDNA_merged_chr{chrom}.vcf'), sep='\\t', index=False)\n",
    "    sc_merg_chr.to_csv(os.path.join(output_dir, f'merged_chr/GM12878_SC_merged_chr{chrom}.vcf.gz'), sep='\\t', index=False)\n"
   ]
  },
  {
   "cell_type": "code",
   "execution_count": null,
   "metadata": {},
   "outputs": [],
   "source": [
    "pd.read_csv(os.path.join(output_dir, 'merged_chr/GM12878_gDNA_merged_chr2.vcf'),header=0,sep='\\t', dtype='object').head(3)"
   ]
  },
  {
   "cell_type": "code",
   "execution_count": null,
   "metadata": {},
   "outputs": [],
   "source": [
    "pd.read_csv(os.path.join(output_dir, 'merged_chr/GM12878_SC_merged_chr2.vcf.gz'),header=0,sep='\\t', dtype='object').head(3)"
   ]
  },
  {
   "attachments": {},
   "cell_type": "markdown",
   "metadata": {},
   "source": [
    "#### Checking the genotypes"
   ]
  },
  {
   "cell_type": "raw",
   "metadata": {},
   "source": [
    "chrom = '16'\n",
    "seed = '5'\n",
    "perc = '10'\n",
    "\n",
    "sc_merg_chr_imputed = pd.read_csv(f'../server/outputs/seeds/imputed_hundred/GM12878_SC_merged_chr{chrom}_seed{seed}_perc{perc}imputed_hundred_ex.vcf.gz',header=8, sep='\\t', dtype='object')\n",
    "#sc_merg_chr_imputed = pd.read_csv(f'../server/outputs/seeds_perc/GM12878_SC_merged_chr{chrom}_seed{seed}_perc{perc}imputed.vcf.gz',header=8, sep='\\t', dtype='object')\n",
    "bk_merg_chr_check = pd.read_csv(f'../server/outputs/seeds/check_hundred/GM12878_gDNA_merged_chr{chrom}_seed{seed}_perc{perc}_check_hundred.vcf',header=0, sep='\\t', dtype='object')\n",
    "\n",
    "sc_merg_chr_imputed['FORMAT'] = 'GT'\n",
    "sc_merg_chr_imputed.iloc[:,9:] = sc_merg_chr_imputed.iloc[:,9:].apply(lambda x : x.str.split(':').str.get(0))\n",
    "\n",
    "sc_merg_chr_imp_filt = sc_merg_chr_imputed[sc_merg_chr_imputed.POS.isin(bk_merg_chr_check['POS'].to_list())==True]\n",
    "bk_merg_chr_check_filt = bk_merg_chr_check[bk_merg_chr_check.POS.isin(sc_merg_chr_imp_filt['POS'].to_list())==True]\n",
    "\n",
    "print(bk_merg_chr_check.shape[0], sc_merg_chr_imputed.shape[0])\n",
    "print(bk_merg_chr_check_filt.shape[0], sc_merg_chr_imp_filt.shape[0])\n",
    "\n",
    "print(sc_merg_chr_imp_filt.iloc[:,9].unique())\n",
    "print(sc_merg_chr_imp_filt.iloc[:,10].unique())\n",
    "print(sc_merg_chr_imp_filt.iloc[:,11].unique())\n",
    "print(sc_merg_chr_imp_filt.iloc[:,12].unique())\n",
    "print(sc_merg_chr_imp_filt.iloc[:,13].unique())\n"
   ]
  },
  {
   "attachments": {},
   "cell_type": "markdown",
   "metadata": {},
   "source": [
    "### Datasets preparation"
   ]
  },
  {
   "cell_type": "code",
   "execution_count": null,
   "metadata": {},
   "outputs": [],
   "source": [
    "percentages = ['10','20','30','40']\n",
    "seeds = range(1, 11)\n",
    "\n",
    "for chrom in chromosomes:\n",
    "    for perc in percentages:\n",
    "        for seed in seeds:\n",
    "            sc_merg_chr = pd.read_csv(os.path.join(output_dir, f'merged_chr/GM12878_SC_merged_chr{chrom}.vcf.gz'), header=0, sep='\\t', dtype='object')\n",
    "            bk_merg_chr = pd.read_csv(os.path.join(output_dir, f'merged_chr/GM12878_gDNA_merged_chr{chrom}.vcf'), header=0, sep='\\t', dtype='object')\n",
    "\n",
    "            rd.seed(seed)\n",
    "            pos = sc_merg_chr['POS'].tolist()\n",
    "            pos_seed = rd.sample(pos, round((len(pos)*(int(perc)/100))))\n",
    "\n",
    "            position_masked = os.path.join(result_dir, f'positions_masked/maskedpos_chr{chrom}_seed{seed}_perc{perc}_fifty.txt')\n",
    "            with open(position_masked,'w') as output:\n",
    "                output.write(str(pos_seed))\n",
    "    \n",
    "            sc_merg_chr_toimp = sc_merg_chr[~sc_merg_chr['POS'].isin(pos_seed)]\n",
    "            bk_merg_chr_check = bk_merg_chr[bk_merg_chr['POS'].isin(pos_seed)]\n",
    "            sc_merg_chr_check = sc_merg_chr[sc_merg_chr['POS'].isin(pos_seed)]\n",
    "\n",
    "            sc_merg_chr_toimp.to_csv(os.path.join(output_dir, f'toimp_percs/GM12878_SC_merged_chr{chrom}_seed{seed}_perc{perc}_toimp_percs.vcf.gz'), sep='\\t', index=False)\n",
    "            bk_merg_chr_check.to_csv(os.path.join(output_dir, f'check_percs/GM12878_gDNA_merged_chr{chrom}_seed{seed}_perc{perc}_check_percs.vcf'), sep='\\t', index=False)\n",
    "            sc_merg_chr_check.to_csv(os.path.join(output_dir, f'check_percs/GM12878_SC_merged_chr{chrom}_seed{seed}_perc{perc}_check_percs.vcf.gz'), sep='\\t', index=False)\n"
   ]
  },
  {
   "cell_type": "code",
   "execution_count": null,
   "metadata": {},
   "outputs": [],
   "source": [
    "percentages = ['10']\n",
    "seeds = range(1, 51)\n",
    "\n",
    "for chrom in chromosomes:\n",
    "    for perc in percentages:\n",
    "        for seed in seeds:\n",
    "            sc_merg_chr = pd.read_csv(os.path.join(output_dir, f'merged_chr/GM12878_SC_merged_chr{chrom}.vcf.gz'), header=0, sep='\\t', dtype='object')\n",
    "            bk_merg_chr = pd.read_csv(os.path.join(output_dir, f'merged_chr/GM12878_gDNA_merged_chr{chrom}.vcf'), header=0, sep='\\t', dtype='object')\n",
    "\n",
    "            rd.seed(seed)\n",
    "            pos = sc_merg_chr['POS'].tolist()\n",
    "            pos_seed = rd.sample(pos, round((len(pos)*(int(perc)/100))))\n",
    "\n",
    "            position_masked = os.path.join(result_dir, f'positions_masked/maskedpos_chr{chrom}_seed{seed}_perc{perc}_fifty.txt')\n",
    "            with open(position_masked,'w') as output:\n",
    "                output.write(str(pos_seed))\n",
    "    \n",
    "            sc_merg_chr_toimp = sc_merg_chr[~sc_merg_chr['POS'].isin(pos_seed)]\n",
    "            bk_merg_chr_check = bk_merg_chr[bk_merg_chr['POS'].isin(pos_seed)]\n",
    "            sc_merg_chr_check = sc_merg_chr[sc_merg_chr['POS'].isin(pos_seed)]\n",
    "\n",
    "            sc_merg_chr_toimp.to_csv(os.path.join(output_dir, f'toimp_fifty/GM12878_SC_merged_chr{chrom}_seed{seed}_perc{perc}_toimp_fifty.vcf.gz'), sep='\\t', index=False)\n",
    "            bk_merg_chr_check.to_csv(os.path.join(output_dir, f'check_fifty/GM12878_gDNA_merged_chr{chrom}_seed{seed}_perc{perc}_check_fifty.vcf'), sep='\\t', index=False)\n",
    "            sc_merg_chr_check.to_csv(os.path.join(output_dir, f'check_fifty/GM12878_SC_merged_chr{chrom}_seed{seed}_perc{perc}_check_fifty.vcf.gz'), sep='\\t', index=False)\n"
   ]
  },
  {
   "cell_type": "code",
   "execution_count": null,
   "metadata": {},
   "outputs": [],
   "source": [
    "pd.read_csv(os.path.join(output_dir, 'check_fifty/GM12878_gDNA_merged_chr11_seed2_perc10_check_fifty.vcf'),header=0,sep='\\t', dtype='object').head(3)"
   ]
  },
  {
   "attachments": {},
   "cell_type": "markdown",
   "metadata": {},
   "source": [
    "### Imputation and jaccard score"
   ]
  },
  {
   "cell_type": "code",
   "execution_count": null,
   "metadata": {},
   "outputs": [],
   "source": [
    "import subprocess\n",
    "\n",
    "def impute_seed(chrom, seed, perc):\n",
    "    ref = f'/home/mreverenna/reference/chr{chrom}.1kg.phase3.v5a.vcf.gz '\n",
    "    map = f'/home/mreverenna/map/plink.chr{chrom}.GRCh37.map '\n",
    "    gt = f'/home/mreverenna/analysis/vcf_experiments/masking_seeds/percs_toimp/GM12878_SC_merged_chr{chrom}_seed{seed}_perc{perc}_toimp_percs.vcf.gz '\n",
    "    out = f'/home/mreverenna/analysis/vcf_experiments/masking_seeds/percs_imputed/GM12878_SC_merged_chr{chrom}_seed{seed}_perc{perc}imputed_percs'\n",
    "    positions = f'/home/mreverenna/analysis/vcf_experiments/masking_seeds/positions/file_diff_{chrom}.txt '\n",
    "\n",
    "    print(f'Imputation of GM12878_SC_merged_chr{chrom}_seed{seed}_perc{perc}_toimp is started, take a little break...')\n",
    "    command = \"java -jar /home/mreverenna/programs/beagle.22Jul22.46e.jar \" + f\"excludemarkers={positions}\" + f\"ref={ref}\" + f\"gt={gt}\" + f\"map={map}\" + f\"out={out}\"\n",
    "    result = subprocess.Popen(command, shell=True, stdout=subprocess.PIPE, stderr=subprocess.PIPE).communicate()\n",
    "\n",
    "if __name__ == '__main__':\n",
    "    chromosomes = list(range(1,23))\n",
    "    percentages = ['10','20','30','40']\n",
    "    seeds = range(1,11)\n",
    "\n",
    "    for chrom in chromosomes:\n",
    "        for seed in seeds:\n",
    "            for perc in percentages:\n",
    "                impute_seed(chrom, seed, perc)"
   ]
  },
  {
   "cell_type": "code",
   "execution_count": null,
   "metadata": {},
   "outputs": [],
   "source": [
    "import subprocess\n",
    "\n",
    "def impute_seed(chrom, seed, perc):\n",
    "    ref = f'/home/mreverenna/reference/chr{chrom}.1kg.phase3.v5a.vcf.gz '\n",
    "    map = f'/home/mreverenna/map/plink.chr{chrom}.GRCh37.map '\n",
    "    gt = f'/home/mreverenna/analysis/vcf_experiments/dir_toimp/GM12878_SC_merged_chr{chrom}_seed{seed}_perc{perc}_toimp_hundred.vcf.gz '\n",
    "    out = f'/home/mreverenna/analysis/vcf_experiments/masking_seeds/imputed_ex/GM12878_SC_merged_chr{chrom}_seed{seed}_perc{perc}imputed_hundred_ex'\n",
    "    positions = f'/home/mreverenna/analysis/vcf_experiments/masking_seeds/positions/file_diff_{chrom}.txt '\n",
    "\n",
    "    print(f'Imputation of GM12878_SC_merged_chr{chrom}_seed{seed}_perc{perc}_toimp is started, take a little break...')\n",
    "    command = \"java -jar /home/mreverenna/programs/beagle.22Jul22.46e.jar \" + f\"excludemarkers={positions}\" + f\"ref={ref}\" + f\"gt={gt}\" + f\"map={map}\" + f\"out={out}\"\n",
    "    result = subprocess.Popen(command, shell=True, stdout=subprocess.PIPE, stderr=subprocess.PIPE).communicate()\n",
    "\n",
    "if __name__ == '__main__':\n",
    "    chromosomes = [1, 2, 3, 4, 5, 6, 7, 8, 9, 10, 11, 12, 13, 14, 15, 16, 17, 18, 19, 20, 21, 22]\n",
    "    percentages = ['10']\n",
    "    seeds = range(1,51)\n",
    "\n",
    "    for chrom in chromosomes:\n",
    "        for seed in seeds:\n",
    "            for perc in percentages:\n",
    "                impute_seed(chrom, seed, perc)"
   ]
  },
  {
   "cell_type": "code",
   "execution_count": null,
   "metadata": {},
   "outputs": [],
   "source": [
    "pd.read_csv(os.path.join(output_dir, 'check_fifty/GM12878_gDNA_merged_chr3_seed3_perc10_check_fifty.vcf'),header=0,sep='\\t', dtype='object').head(3)"
   ]
  },
  {
   "attachments": {},
   "cell_type": "markdown",
   "metadata": {},
   "source": [
    "#### Pre imputation"
   ]
  },
  {
   "cell_type": "code",
   "execution_count": null,
   "metadata": {},
   "outputs": [],
   "source": [
    "#output_dir = '/home/mreverenna/analysis/vcf_experiments/masking_seeds/check_hundred/'\n",
    "#result_dir = '/home/mreverenna/analysis/vcf_experiments/masking_seeds/results/'\n",
    "gen_dosage = {'0/0': 0, '0/1': 1, '1/0': 1, '1/1': 2, '1/2': 3, '2/2': 4, './.': 5}\n",
    "samples = ['rep_1', 'rep_2', 'rep_3', 'rep_4', 'rep_5']\n",
    "chromosomes = [1, 2, 3, 4, 5, 6, 7, 8, 9, 10, 11, 12, 13, 14, 15, 16, 17, 18, 19, 20, 21, 22]\n",
    "seeds = range(1, 51)\n",
    "percentages = ['10']\n",
    "\n",
    "j_list_pre = []\n",
    "\n",
    "for sample in samples:\n",
    "    dict_pre = []\n",
    "    for chrom in chromosomes:\n",
    "        for seed in seeds:\n",
    "            for perc in percentages:\n",
    "                bk_merg_chr_check = pd.read_csv(os.path.join(output_dir, f'check_fifty/GM12878_gDNA_merged_chr{chrom}_seed{seed}_perc{perc}_check_fifty.vcf'), header=0, sep='\\t', dtype='object')\n",
    "                sc_merg_chr_check = pd.read_csv(os.path.join(output_dir, f'check_fifty/GM12878_SC_merged_chr{chrom}_seed{seed}_perc{perc}_check_fifty.vcf.gz'), header=0, sep='\\t', dtype='object')\n",
    "\n",
    "                vec_bulk = bk_merg_chr_check[sample].map(gen_dosage).tolist()\n",
    "                vec_sing = sc_merg_chr_check[sample].map(gen_dosage).tolist()\n",
    "\n",
    "                j_value = jaccard_score(vec_bulk, vec_sing, average='micro')\n",
    "                j_list_pre.append(j_value)\n",
    "\n",
    "                dict_js = {\n",
    "                    'sample' : sample,\n",
    "                    'chromosome' : chrom,\n",
    "                    'seed': seed,\n",
    "                    'perc': perc,\n",
    "                    'j_score': j_value\n",
    "                }\n",
    "\n",
    "                dict_pre.append(dict_js)\n",
    "\n",
    "    pd.DataFrame(dict_pre).to_excel(os.path.join(result_dir, f'tables_before/jaccard_scores_{sample}_pre_fifty_micro.xlsx'), index=False)"
   ]
  },
  {
   "cell_type": "code",
   "execution_count": null,
   "metadata": {},
   "outputs": [],
   "source": [
    "pd.read_csv(os.path.join(output_dir, 'check_fifty/GM12878_SC_merged_chr1_seed2_perc10_check_fifty.vcf.gz'),header=0,sep='\\t', dtype='object').head(3)"
   ]
  },
  {
   "cell_type": "code",
   "execution_count": null,
   "metadata": {},
   "outputs": [],
   "source": [
    "pd.read_csv(os.path.join(output_dir, 'check_fifty/GM12878_gDNA_merged_chr1_seed2_perc10_check_fifty.vcf'),header=0,sep='\\t', dtype='object').head(3)"
   ]
  },
  {
   "attachments": {},
   "cell_type": "markdown",
   "metadata": {},
   "source": [
    "#### After imputation"
   ]
  },
  {
   "cell_type": "code",
   "execution_count": null,
   "metadata": {},
   "outputs": [],
   "source": [
    "output_dir"
   ]
  },
  {
   "cell_type": "code",
   "execution_count": null,
   "metadata": {},
   "outputs": [],
   "source": [
    "pd.read_csv(os.path.join(output_dir, 'imputed_fifty/GM12878_SC_merged_chr1_seed2_perc10imputed_hundred_ex.vcf.gz'),header=8,sep='\\t', dtype='object')"
   ]
  },
  {
   "cell_type": "code",
   "execution_count": null,
   "metadata": {},
   "outputs": [],
   "source": [
    "pd.read_csv(os.path.join(output_dir, f'imputed_fifty_copy/GM12878_SC_merged_chr1_seed24_perc10imputed_hundred_ex.vcf.gz'),header=8,sep='\\t', dtype='object')"
   ]
  },
  {
   "cell_type": "code",
   "execution_count": null,
   "metadata": {},
   "outputs": [],
   "source": [
    "pd.read_csv(os.path.join(output_dir, 'imputed_fifty_copy/GM12878_SC_merged_chr1_seed24_perc10imputed_fifty.vcf.gz'),header=0,sep='\\t', dtype='object')"
   ]
  },
  {
   "cell_type": "raw",
   "metadata": {},
   "source": [
    "import pandas as pd\n",
    "column_names = ['#CHROM', 'POS', 'ID', 'REF', 'ALT', 'QUAL', 'FILTER', 'INFO', 'FORMAT', 'rep_1', 'rep_2', 'rep_3', 'rep_4', 'rep_5']\n",
    "samples = ['rep_1', 'rep_2', 'rep_3', 'rep_4', 'rep_5']\n",
    "chromosomes =  [1, 2, 3, 4, 5, 6, 7, 8, 9, 10, 11, 12, 13, 14, 15, 16, 17, 18, 19, 20, 21, 22]\n",
    "seeds = range(1, 51)\n",
    "percentages = ['10']\n",
    "\n",
    "for chrom in chromosomes:\n",
    "    for seed in seeds:\n",
    "        for perc in percentages:\n",
    "            df = pd.read_csv(os.path.join(output_dir, f'imputed_fifty_copy/GM12878_SC_merged_chr{chrom}_seed{seed}_perc{perc}imputed_hundred_ex.vcf.gz'),header=8,sep='\\t', dtype='object')\n",
    "            df.columns = column_names\n",
    "            df.to_csv(os.path.join(output_dir, f'imputed_fifty_copy/GM12878_SC_merged_chr{chrom}_seed{seed}_perc{perc}imputed_fifty.vcf.gz'), sep='\\t', index=False)\n",
    "\n"
   ]
  },
  {
   "cell_type": "code",
   "execution_count": null,
   "metadata": {},
   "outputs": [],
   "source": [
    "pd.read_csv(os.path.join(output_dir, 'imputed_fifty_copy/GM12878_SC_merged_chr22_seed1_perc10imputed_fifty.vcf.gz'),header=0,sep='\\t', dtype='object')"
   ]
  },
  {
   "cell_type": "code",
   "execution_count": null,
   "metadata": {},
   "outputs": [],
   "source": []
  },
  {
   "cell_type": "code",
   "execution_count": null,
   "metadata": {},
   "outputs": [],
   "source": [
    "samples = ['rep_1', 'rep_2', 'rep_3', 'rep_4', 'rep_5']\n",
    "chromosomes = [1, 2, 3, 4, 5, 6, 7, 8, 9, 10, 11, 12, 13, 14, 15, 16, 17, 18, 19, 20, 21, 22]\n",
    "seeds = range(1, 51)\n",
    "percentages = ['10']\n",
    "gen_dosage =     {'0/0': 0,'0/1': 1,'1/0': 1, '1/1': 2, '1/2': 3, '2/1': 3, '2/2': 4, '2/0': 5,'0/2': 5}\n",
    "gen_dosage_imp = {'0|0': 0,'0|1': 1,'1|0': 1, '1|1': 2, '1|2': 3, '2|1': 3, '2|2': 4,'2|0': 5,'0|2': 5}\n",
    "\n",
    "\n",
    "j_list_post = []\n",
    "for sample in samples:\n",
    "    dict_post = []\n",
    "\n",
    "    for chrom in chromosomes:\n",
    "        for seed in seeds:\n",
    "            for perc in percentages:\n",
    "\n",
    "                sc_merg_chr_imputed = pd.read_csv(os.path.join(output_dir, f'imputed_fifty_copy/GM12878_SC_merged_chr{chrom}_seed{seed}_perc{perc}imputed_fifty.vcf.gz'), header=0, sep='\\t', dtype='object')\n",
    "                bk_merg_chr_check = pd.read_csv(os.path.join(output_dir, f'check_fifty/GM12878_gDNA_merged_chr{chrom}_seed{seed}_perc{perc}_check_fifty.vcf'), header=0, sep='\\t', dtype='object')\n",
    "\n",
    "                sc_merg_chr_imputed['FORMAT'] = 'GT'\n",
    "                sc_merg_chr_imputed.iloc[:,9:] = sc_merg_chr_imputed.iloc[:,9:].apply(lambda x : x.str.split(':').str.get(0))\n",
    "                sc_merg_chr_imputed = sc_merg_chr_imputed[~sc_merg_chr_imputed.iloc[:, 9:].isin(['3|0', '0|3', '3|3']).any(axis=1)]\n",
    "                sc_merg_chr_imputed.drop_duplicates(subset=['POS'], inplace=True) \n",
    "                bk_merg_chr_check_ex = bk_merg_chr_check[~(bk_merg_chr_check.iloc[:, 9:] == './.').any(axis=1)] \n",
    "                                               \n",
    "                # define the lists to compare\n",
    "                sc_merg_chr_imp_filt = sc_merg_chr_imputed[sc_merg_chr_imputed.POS.isin(bk_merg_chr_check_ex['POS'].to_list())==True]\n",
    "                bk_merg_chr_check_filt = bk_merg_chr_check_ex[bk_merg_chr_check_ex.POS.isin(sc_merg_chr_imp_filt['POS'].to_list())==True]\n",
    "                \n",
    "                print('Bk original: {}'.format(bk_merg_chr_check_ex.shape[0]), 'Sc original: {}'.format(sc_merg_chr_imputed.shape[0]))\n",
    "                print('Bk filtered: {}'.format(bk_merg_chr_check_filt.shape[0]), 'Sc filtered: {}'.format(sc_merg_chr_imp_filt.shape[0]))\n",
    "                print(f'GM12878_SC_merg_chr{chrom}_seed{seed}_perc{perc}imp_hundred vs GM12878_gDNA_merged_chr{chrom}_seed{seed}_perc{perc}_check_hundred')\n",
    "\n",
    "                vec_bulk = bk_merg_chr_check_filt[sample].map(gen_dosage).tolist()\n",
    "                vec_sing = sc_merg_chr_imp_filt[sample].map(gen_dosage_imp).tolist()\n",
    "                                          \n",
    "                j_value = jaccard_score(vec_bulk, vec_sing, average='micro')\n",
    "                j_list_post.append(j_value)\n",
    "\n",
    "                dict_js = {\n",
    "                    'sample' : sample,\n",
    "                    'chromosome' : chrom,\n",
    "                    'seed': seed,\n",
    "                    'perc': perc,\n",
    "                    'j_score': j_value}\n",
    "\n",
    "                dict_post.append(dict_js)\n",
    "\n",
    "    pd.DataFrame(dict_post).to_excel(os.path.join(result_dir, f'tables_after/jaccard_scores_{sample}_post_fifty_micro.xlsx'), index=False)"
   ]
  },
  {
   "cell_type": "raw",
   "metadata": {},
   "source": [
    "### Jaccard score tests\n",
    "# 2 numeratore\n",
    "# 4 denominatore\n",
    "\n",
    "#https://www.google.com/search?q=jaccard+score&sxsrf=APwXEddOMzWazpVcqFpPGwsp8lretydLBw:1681308084108&source=lnms&tbm=isch&sa=X&ved=2ahUKEwjcuPHYwKT-AhWtgv0HHQIWC98Q_AUoAXoECAEQAw&biw=1160&bih=606&dpr=1.5#imgrc=9XiTrIuFj4Fj0M\n",
    "\n",
    "vec3 = [1,1,3,3]\n",
    "vec4 = [0,1,3,3]\n",
    "j_vec2 = jaccard_score(vec3, vec4, average='micro')\n",
    "print(j_vec2)\n",
    "\n",
    "#2 numeratore\n",
    "#5 denominatore\n",
    "\n",
    "#il numero da mappare prima e dopo deve sempre essere lo stesso altrimenti divido per un numero maggiore e i risultati sono sempre piu piccoli\n",
    "\n",
    "vec1 = [1,0,3]\n",
    "vec2 = [1,2,3]\n",
    "j_vec = jaccard_score(vec1, vec2, average='macro')\n",
    "print(j_vec)"
   ]
  },
  {
   "cell_type": "raw",
   "metadata": {},
   "source": [
    "result_dir"
   ]
  },
  {
   "attachments": {},
   "cell_type": "markdown",
   "metadata": {},
   "source": [
    "### Graphical illustration"
   ]
  },
  {
   "cell_type": "code",
   "execution_count": null,
   "metadata": {},
   "outputs": [],
   "source": [
    "samples = ['rep_1', 'rep_2', 'rep_3', 'rep_4', 'rep_5']"
   ]
  },
  {
   "cell_type": "code",
   "execution_count": null,
   "metadata": {},
   "outputs": [],
   "source": [
    "# load excels jaccard score\n",
    "file_names_pre = [os.path.join(result_dir,f'tables_before/jaccard_scores_{sample}_pre_fifty_micro.xlsx') for sample in samples]\n",
    "dfs_pre = [pd.read_excel(file) for file in file_names_pre] # read each file into a list of DataFrames\n",
    "result_pre = pd.concat(dfs_pre)\n",
    "\n",
    "file_names_post = [os.path.join(result_dir,f'tables_after/jaccard_scores_{sample}_post_fifty_micro.xlsx') for sample in samples]\n",
    "dfs_post = [pd.read_excel(file) for file in file_names_post] \n",
    "result_post = pd.concat(dfs_post)\n",
    "\n",
    "result_merged = result_post.copy()"
   ]
  },
  {
   "cell_type": "code",
   "execution_count": null,
   "metadata": {},
   "outputs": [],
   "source": [
    "result_pre.head(3)"
   ]
  },
  {
   "cell_type": "code",
   "execution_count": null,
   "metadata": {},
   "outputs": [],
   "source": [
    "result_post.head(3)"
   ]
  },
  {
   "cell_type": "code",
   "execution_count": null,
   "metadata": {},
   "outputs": [],
   "source": [
    "result_merged['j_score_pre'] = result_pre['j_score']\n",
    "result_merged.rename(columns={'j_score': 'j_score_post'}, inplace=True)"
   ]
  },
  {
   "cell_type": "code",
   "execution_count": null,
   "metadata": {},
   "outputs": [],
   "source": [
    "result_merged"
   ]
  },
  {
   "attachments": {},
   "cell_type": "markdown",
   "metadata": {},
   "source": [
    "### Plotly"
   ]
  },
  {
   "cell_type": "code",
   "execution_count": null,
   "metadata": {},
   "outputs": [],
   "source": [
    "fig = go.Figure()\n",
    "\n",
    "fig.add_trace(go.Violin(x=result_merged['chromosome'], y=result_merged['j_score_pre'],\n",
    "                        legendgroup='PRE', scalegroup='PRE', name='PRE', side = 'negative', line_color='red'))\n",
    "fig.add_trace(go.Violin(x=result_merged['chromosome'], y=result_merged['j_score_post'],\n",
    "                        legendgroup='POST', scalegroup='POST',  side = 'positive', name='POST',line_color='green'))\n",
    "\n",
    "fig.update_traces(meanline_visible=True)\n",
    "fig.update_layout(violingap=0, violinmode = 'overlay', \n",
    "                  title='Distribution of jaccard scores before and after imputation by chromosomes',\n",
    "                  xaxis=dict(tickmode='array', tickvals=np.arange(1, 23)),\n",
    "                  yaxis=dict(range=[0.4, 1]),\n",
    "                  xaxis_title='Chromosomes',\n",
    "                  yaxis_title='Jaccard scores')\n",
    "\n",
    "#fig.write_image(os.path.join(plot_dir, 'violinplot_by_samples.pdf'))\n",
    "fig.show()"
   ]
  },
  {
   "cell_type": "code",
   "execution_count": null,
   "metadata": {},
   "outputs": [],
   "source": [
    "fig = go.Figure()\n",
    "\n",
    "fig.add_trace(go.Violin(x=result_merged['sample'], y=result_merged['j_score_pre'],\n",
    "                        legendgroup='PRE', scalegroup='PRE', name='PRE',line_color='orange'))\n",
    "fig.add_trace(go.Violin(x=result_merged['sample'], y=result_merged['j_score_post'],\n",
    "                        legendgroup='POST', scalegroup='POST', name='POST',line_color='green'))\n",
    "\n",
    "fig.update_traces(box_visible=True, meanline_visible=True)\n",
    "fig.update_layout(violinmode='group', yaxis=dict(range=[0.4, 1]), \n",
    "                  title='Distribution of jaccard scores before and after imputation by samples',\n",
    "                  xaxis_title='Samples',\n",
    "                  yaxis_title='Jaccard scores')\n",
    "\n",
    "#fig.write_image(os.path.join(plot_dir, 'violinplot_by_samples.pdf'))\n",
    "fig.show()"
   ]
  },
  {
   "attachments": {},
   "cell_type": "markdown",
   "metadata": {},
   "source": [
    "####  Plots seaborn and matplot"
   ]
  },
  {
   "cell_type": "code",
   "execution_count": null,
   "metadata": {},
   "outputs": [],
   "source": [
    "# define plots functions before and after imputation\n",
    "def plot_bef(pos1, pos2, per, chr, sample, data=result_pre):\n",
    "    subset = data[(data['sample'] == sample) & (data['perc'] == per) & (data['chromosome'] == chr)]\n",
    "    sns.scatterplot(data=subset, x='seed', y='j_score', hue='seed', ax=axs[pos1, pos2])\n",
    "    axs[pos1, pos2].set_ylim(0.00, 1.00)\n",
    "    axs[pos1, pos2].set_xlabel('Seeds')\n",
    "    axs[pos1, pos2].set_ylabel('Jaccard scores')\n",
    "    axs[pos1, pos2].set_title(f'{sample} before imputation')\n",
    "    axs[pos1, pos2].axhline(y=0.5, linestyle='--', color='grey')\n",
    "    axs[pos1, pos2].tick_params(axis='x', labelrotation=0)\n",
    "    if axs[pos1, pos2].legend_ is not None:\n",
    "        axs[pos1, pos2].legend_.remove()\n",
    "\n",
    "def plot_post(pos1, pos2, per, chr, sample, data=result_post):\n",
    "    subset = data[(data['sample']==sample) & (data['perc']==per) & (data['chromosome'] == chr)]\n",
    "    sns.scatterplot(data=subset, x='seed', y='j_score', hue='seed', ax=axs[pos1, pos2])\n",
    "    axs[pos1, pos2].set_ylim(0.00, 1.00)\n",
    "    axs[pos1, pos2].set_xlabel('Seeds')\n",
    "    axs[pos1, pos2].set_ylabel('Jaccard scores')\n",
    "    axs[pos1, pos2].set_title(f'{sample} after imputation')\n",
    "    axs[pos1, pos2].axhline(y=0.5, linestyle='--', color='grey')\n",
    "    axs[pos1, pos2].tick_params(axis='x', labelrotation=0)\n",
    "    if axs[pos1, pos2].legend_ is not None:\n",
    "        axs[pos1, pos2].legend_.remove()"
   ]
  },
  {
   "cell_type": "code",
   "execution_count": null,
   "metadata": {},
   "outputs": [],
   "source": [
    "for chrom in chromosomes:\n",
    "\n",
    "     fig, axs = plt.subplots(nrows=5, ncols=2, figsize=(22, 30))\n",
    "     plot_bef(pos1=0, pos2=0, per = 10, chr = chrom, sample = 'rep_1', data = result_pre)\n",
    "     plot_post(pos1=0, pos2=1, per = 10, chr = chrom, sample = 'rep_1', data = result_post)\n",
    "     plot_bef(pos1=1, pos2=0, per = 10, chr = chrom, sample = 'rep_2', data = result_pre)\n",
    "     plot_post(pos1=1, pos2=1, per = 10, chr = chrom, sample = 'rep_2', data = result_post)\n",
    "     plot_bef(pos1=2, pos2=0, per = 10, chr = chrom, sample = 'rep_3', data = result_pre)\n",
    "     plot_post(pos1=2, pos2=1, per = 10, chr = chrom, sample = 'rep_3', data = result_post)\n",
    "     plot_bef(pos1=3, pos2=0, per = 10, chr = chrom, sample = 'rep_4', data = result_pre)\n",
    "     plot_post(pos1=3, pos2=1, per = 10, chr = chrom, sample = 'rep_4', data = result_post)\n",
    "     plot_bef(pos1=4, pos2=0, per = 10, chr = chrom, sample = 'rep_5', data = result_pre)\n",
    "     plot_post(pos1=4, pos2=1, per = 10, chr = chrom, sample = 'rep_5', data = result_post)\n",
    "\n",
    "     fig.suptitle(f'Comparison between samples in cromosome {chrom} 10 percent masked', fontsize=15)\n",
    "     fig.subplots_adjust(top= 0.92, hspace=0.45, wspace=0.25)\n",
    "\n",
    "     #plt.savefig(os.path.join(plot_dir, f'scatter_chr{chrom}_10perc.pdf'))\n",
    "     plt.close(fig)\n",
    "     \n",
    "plt.show()"
   ]
  },
  {
   "attachments": {},
   "cell_type": "markdown",
   "metadata": {},
   "source": [
    "### Paird T-test"
   ]
  },
  {
   "cell_type": "code",
   "execution_count": null,
   "metadata": {},
   "outputs": [],
   "source": [
    "# load the jaccard score before and after imputation\n",
    "result_pre = result_pre.rename(columns={'j_score': 'j_score_before'})\n",
    "result_pre = result_pre.reset_index(drop=True)\n",
    "\n",
    "result_post = result_post.rename(columns={'j_score': 'j_score_after'})\n",
    "result_post = result_post.reset_index(drop=True)\n",
    "\n",
    "# merge the tables and feature engineering\n",
    "result_merged = pd.concat([result_pre.reset_index(drop=True),result_post.iloc[:,4].reset_index(drop=True)], axis=1)\n",
    "result_merged['delta'] = result_merged['j_score_after'] - result_merged['j_score_before']\n",
    "result_merged['improvement'] = result_merged['improvement'] = result_merged['delta'].apply(lambda x: 1 if x > 0 else 0)"
   ]
  },
  {
   "cell_type": "code",
   "execution_count": null,
   "metadata": {},
   "outputs": [],
   "source": [
    "result_merged.head(3)"
   ]
  },
  {
   "cell_type": "code",
   "execution_count": null,
   "metadata": {},
   "outputs": [],
   "source": [
    "dict_pvalues = {}\n",
    "\n",
    "for chrom in chromosomes:\n",
    "    try:\n",
    "        df_chrom = result_merged[result_merged['chromosome'] == chrom]\n",
    "        list_after = df_chrom['j_score_after']\n",
    "        list_before = df_chrom['j_score_before']\n",
    "\n",
    "        statistic, pvalue = stats.ttest_rel(list_after, list_before, alternative='greater')\n",
    "        pvalue_log = -np.log10(pvalue)\n",
    "        effect = list_after.mean() - list_before.mean()\n",
    "\n",
    "        dict_pvalues[chrom] = (pvalue, pvalue_log, effect)\n",
    "\n",
    "    except (ValueError, TypeError) as e:\n",
    "        print(f\"Error processing chromosome {chrom}: {str(e)}\")"
   ]
  },
  {
   "cell_type": "code",
   "execution_count": null,
   "metadata": {},
   "outputs": [],
   "source": [
    "data_pv = pd.DataFrame.from_dict(dict_pvalues, orient='index', columns=['pvalue', 'log_pvalue', 'average_mean'])\n",
    "data_pv.index.name='chromosome'\n",
    "\n",
    "pvalues = [val[0] for val in dict_pvalues.values()]\n",
    "log_pvalues = [val[1] for val in dict_pvalues.values()]\n",
    "\n",
    "plt.bar(dict_pvalues.keys(), log_pvalues)\n",
    "# y = -log10(0.01) = 2\n",
    "plt.axhline(y=2, color='r')\n",
    "plt.xlabel('Chromosome')\n",
    "plt.ylabel('-log10(p-value)')\n",
    "plt.show()\n"
   ]
  },
  {
   "cell_type": "raw",
   "metadata": {},
   "source": [
    "merged_result = merged_result[merged_result['chromosome']==22]\n",
    "\n",
    "list_delta = merged_result['delta']\n",
    "n_success = np.sum(list_delta > 0)\n",
    "n_trials = len(list_delta)\n",
    "\n",
    "pvalue_bin = stats.binom_test(x=n_success, n=n_trials, p=0.5, alternative='two-sided')\n",
    "\n",
    "print(pvalue_bin)\n",
    "print(n_success)\n",
    "print(-np.log10(pvalue_bin))\n"
   ]
  },
  {
   "cell_type": "raw",
   "metadata": {},
   "source": [
    "with open('../../Desktop/array_positions/positions_array.txt') as f:\n",
    "    for line in f:\n",
    "        chrom = line.split(':')[0]\n",
    "        with open(f'../../Desktop/array_positions/positions_{chrom}.txt', 'a') as out_file:\n",
    "            out_file.write(line)\n",
    "\n",
    "# create txt file composed by CHROM:POS in snp array data\n",
    "for chrom in chromosomes: \n",
    "    chrom_df = bk_merg.loc[bk_merg['#CHROM'] == chrom]\n",
    "    positions = [f\"{chrom}:{pos}\" for pos in chrom_df['POS']]\n",
    "    with open(f\"../../Desktop/{chrom}_positions_array.txt\", 'w') as f:\n",
    "        f.write('\\n'.join(positions))\n",
    "\n",
    "########################## command to get positions of reference panels ###############################\n",
    "# for i in {1..22}; do     bcftools query -f '%CHROM:%POS\\n' chr${i}.1kg.phase3.v5a.vcf.gz > positions_chr${i}.txt; done\n",
    "\n",
    "for chrom in chromosomes:\n",
    "    with open(f'../../Desktop/all_positions/array/{chrom}_positions_array.txt', 'r') as file1, open(f'../../Desktop/all_positions/reference/positions_chr{chrom}.txt', 'r') as file2:\n",
    "        # reads the contents of files and save them in two lists\n",
    "        file1_contents = file1.read().splitlines()\n",
    "        file2_contents = file2.read().splitlines()\n",
    "        # create a list within elements of file 2 that are not in file 1\n",
    "        unique_contents = list(set(file2_contents) - set(file1_contents))\n",
    "        # open the 3rd file and write the uncommon elements\n",
    "        with open(f'../../Desktop/file_diff_{chrom}.txt', 'w') as file3:\n",
    "            file3.write('\\n'.join(unique_contents))\n",
    "\n",
    "\n",
    "# check of file 1,2,3\n",
    "with open('../../Desktop/all_positions/array/10_positions_array.txt', 'r') as file1:\n",
    "    file1_contents = file1.readlines()\n",
    "    print(len(file1_contents))\n",
    "with open('../../Desktop/all_positions/reference/positions_chr10.txt', 'r') as file2:\n",
    "    file2_contents = file2.readlines()\n",
    "    print(len(file2_contents))\n",
    "with open('../../Desktop/all_positions/difference/file_diff_10.txt', 'r') as file3:\n",
    "    file3_contents = file3.readlines()\n",
    "    print(len(file3_contents))\n",
    "print(f'In the reference panel there are not all the positions: {len(file2_contents) - len(file1_contents)}')"
   ]
  }
 ],
 "metadata": {
  "kernelspec": {
   "display_name": "convparq",
   "language": "python",
   "name": "python3"
  },
  "language_info": {
   "codemirror_mode": {
    "name": "ipython",
    "version": 3
   },
   "file_extension": ".py",
   "mimetype": "text/x-python",
   "name": "python",
   "nbconvert_exporter": "python",
   "pygments_lexer": "ipython3",
   "version": "3.10.8"
  },
  "orig_nbformat": 4,
  "vscode": {
   "interpreter": {
    "hash": "410c0c7b14e3a3c8d711eafe660342a2452c62429b74d0aaaa22755fdb14cf9b"
   }
  }
 },
 "nbformat": 4,
 "nbformat_minor": 2
}
