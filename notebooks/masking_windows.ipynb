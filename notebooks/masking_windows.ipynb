{
 "cells": [
  {
   "cell_type": "code",
   "execution_count": null,
   "metadata": {},
   "outputs": [],
   "source": [
    "# import libraries\n",
    "import pandas as pd\n",
    "import numpy as np\n",
    "import random as rd\n",
    "import subprocess\n",
    "import matplotlib.pyplot as plt\n",
    "from sklearn.metrics import jaccard_score\n",
    "import openpyxl\n",
    "import os\n",
    "import seaborn as sns\n",
    "\n",
    "# avoid warnings\n",
    "pd.options.mode.chained_assignment = None"
   ]
  },
  {
   "cell_type": "code",
   "execution_count": null,
   "metadata": {},
   "outputs": [],
   "source": [
    "# load datasets\n",
    "bk_1 = pd.read_csv('data/GM12878_gDNA_1.vcf', header=30,sep='\\t', dtype='object')\n",
    "bk_2 = pd.read_csv('data/GM12878_gDNA_2.vcf', header=30,sep='\\t', dtype='object')\n",
    "bk_3 = pd.read_csv('data/GM12878_gDNA_3.vcf', header=30,sep='\\t', dtype='object')\n",
    "bk_4 = pd.read_csv('data/GM12878_gDNA_4.vcf', header=30,sep='\\t', dtype='object')\n",
    "bk_5 = pd.read_csv('data/GM12878_gDNA_5.vcf', header=30,sep='\\t', dtype='object')\n",
    "\n",
    "sc_129 = pd.read_csv('data/GM12878_SC_129.vcf.gz', header=30,sep='\\t', dtype='object')\n",
    "sc_130 = pd.read_csv('data/GM12878_SC_130.vcf.gz', header=30,sep='\\t', dtype='object')\n",
    "sc_131 = pd.read_csv('data/GM12878_SC_131.vcf.gz', header=30,sep='\\t', dtype='object')\n",
    "sc_132 = pd.read_csv('data/GM12878_SC_132.vcf.gz', header=30,sep='\\t', dtype='object')\n",
    "sc_133 = pd.read_csv('data/GM12878_SC_133.vcf.gz', header=30,sep='\\t', dtype='object')\n",
    "\n",
    "# merge datasets\n",
    "bk_merg = pd.concat([bk_1, bk_2.iloc[:,-1], bk_3.iloc[:,-1], bk_4.iloc[:,-1], bk_5.iloc[:,-1]], axis=1)\n",
    "sc_merg = pd.concat([sc_129, sc_130.iloc[:,-1], sc_131.iloc[:,-1], sc_132.iloc[:,-1],  sc_133.iloc[:,-1]], axis=1)"
   ]
  },
  {
   "cell_type": "code",
   "execution_count": null,
   "metadata": {},
   "outputs": [],
   "source": [
    "sc_merg"
   ]
  },
  {
   "cell_type": "code",
   "execution_count": null,
   "metadata": {},
   "outputs": [],
   "source": [
    "# set the parameters\n",
    "\n",
    "# set the paths\n",
    "result_dir = '../server/results/windows/'\n",
    "output_dir = '../server/outputs/windows/'\n",
    "plot_dir = '../server/plots/windows/'\n",
    "\n",
    "# chromosomes = bk_1.iloc[:,0].unique()[:-2] # X and Y excluded\n",
    "chromosomes = ['1', '2', '3', '4', '5', '6', '7', '8', '9', '10', '11', '12',\n",
    "               '13', '14', '15', '16','17', '18', '19', '20', '21', '22']\n",
    "\n",
    "all_positions = bk_merg.POS.to_list() # 294601 positions\n",
    "column_names = bk_merg.columns.to_list()\n",
    "bulk_ids = ['1','2','3','4','5']\n",
    "singlecell_ids = ['129','130','131','132','133']\n",
    "windows = ['w1','w2','w3','w4','w5']\n",
    "perc = 20"
   ]
  },
  {
   "cell_type": "code",
   "execution_count": null,
   "metadata": {},
   "outputs": [],
   "source": [
    "for chrom in chromosomes:\n",
    "    bk_merg_chr = bk_merg[bk_merg['#CHROM'] == chrom]\n",
    "    sc_merg_chr = sc_merg[sc_merg['#CHROM'] == chrom]\n",
    "\n",
    "    bk_merg_chr.columns = column_names\n",
    "    sc_merg_chr.columns = column_names\n",
    "\n",
    "    bk_merg_chr['FORMAT'] = 'GT'\n",
    "    sc_merg_chr['FORMAT'] = 'GT'\n",
    "\n",
    "    bk_merg_chr.iloc[:,9:] = bk_merg_chr.iloc[:,9:].apply(lambda x : x.str.split(':').str.get(0))\n",
    "    sc_merg_chr.iloc[:,9:] = sc_merg_chr.iloc[:,9:].apply(lambda x : x.str.split(':').str.get(0))\n",
    "\n",
    "    bk_merg_chr.to_csv(os.path.join(output_dir, f'GM12878_gDNA_merged_chr{chrom}.vcf'), sep='\\t', index=False)\n",
    "    sc_merg_chr.to_csv(os.path.join(output_dir, f'GM12878_SC_merged_chr{chrom}.vcf.gz'), sep='\\t', index=False)\n"
   ]
  },
  {
   "cell_type": "code",
   "execution_count": null,
   "metadata": {},
   "outputs": [],
   "source": [
    "#pd.read_csv('../server/outputs/GM12878_gDNA_merged_chr3.vcf',header=0,sep='\\t', dtype='object').head(3)\n",
    "pd.read_csv('../server/outputs/GM12878_SC_merged_chr3.vcf.gz',header=0,sep='\\t', dtype='object').head(15)"
   ]
  },
  {
   "attachments": {},
   "cell_type": "markdown",
   "metadata": {},
   "source": [
    "#### Filtering 1"
   ]
  },
  {
   "cell_type": "code",
   "execution_count": null,
   "metadata": {},
   "outputs": [],
   "source": [
    "for chrom in chromosomes:\n",
    "    sc_merg = pd.read_csv(os.path.join(output_dir, f'GM12878_SC_merged_chr{chrom}.vcf.gz'), header=0, sep='\\t', dtype='object')\n",
    "    bk_merg = pd.read_csv(os.path.join(output_dir, f'GM12878_gDNA_merged_chr{chrom}.vcf'), header=0, sep='\\t', dtype='object')\n",
    "\n",
    "    bk_merg['FORMAT'] = 'GT'\n",
    "    sc_merg['FORMAT'] = 'GT'\n",
    "\n",
    "    print(bk_merg.shape[0])\n",
    "    \n",
    "    bk_merg.iloc[:,9:] = bk_merg.iloc[:,9:].apply(lambda x : x.str.split(':').str.get(0))\n",
    "    bk_merg_calls = bk_merg[~(bk_merg.iloc[:, 9:] == './.').any(axis=1)] # bulk with only calls\n",
    "    sc_merg_filt = sc_merg[sc_merg.POS.isin(bk_merg_calls.POS.to_list())==True] # single cell with the same bulk positions (calls bulk)\n",
    "    \n",
    "    print(bk_merg_calls.shape[0])\n",
    "    print(sc_merg_filt.shape[0])\n",
    "    print('-------')\n",
    "\n",
    "    bk_merg_calls.to_csv(os.path.join(output_dir, f'GM12878_gDNA_merged_chr{chrom}_calls.vcf'), sep='\\t', index=False)\n",
    "    sc_merg_filt.to_csv(os.path.join(output_dir, f'GM12878_SC_merged_chr{chrom}_calls_bk.vcf.gz'), sep='\\t', index=False)\n",
    "    "
   ]
  },
  {
   "cell_type": "code",
   "execution_count": null,
   "metadata": {},
   "outputs": [],
   "source": []
  },
  {
   "cell_type": "code",
   "execution_count": null,
   "metadata": {},
   "outputs": [],
   "source": [
    "import pandas as pd\n",
    "from sklearn.metrics import jaccard_score\n",
    "\n",
    "gen_dosage = {'0/0': 0, '0/1': 1, '1/0': 1, '1/1': 2, '1/2': 3, '2/2': 4, './.': 5}\n",
    "\n",
    "j_list_pre = []\n",
    "windows = []\n",
    "\n",
    "for chrom in chromosomes:\n",
    "    sc_merg = pd.read_csv(os.path.join(output_dir, f'GM12878_SC_merged_chr{chrom}_calls_bk.vcf.gz'), header=0, sep='\\t', dtype='object')\n",
    "    bk_merg = pd.read_csv(os.path.join(output_dir, f'GM12878_gDNA_merged_chr{chrom}_calls.vcf'), header=0, sep='\\t', dtype='object')\n",
    "\n",
    "    # divide the positions in 5 parts (20%)\n",
    "    num_windows = 5\n",
    "    window_size = int(len(bk_merg) / num_windows)\n",
    "\n",
    "    start_index = 0\n",
    "\n",
    "    dict_pre = []\n",
    "\n",
    "    for window in range(num_windows):\n",
    "        # Get the positions in the current window of the second file\n",
    "        end_index = min(start_index + window_size, len(bk_merg))\n",
    "        current_window_bk = bk_merg.iloc[start_index:end_index]\n",
    "\n",
    "        # Add the positions in the current window of the second file to the list of windows\n",
    "        windows.append(current_window_bk)\n",
    "\n",
    "        # Remove the positions in the current window of the second file from the first file\n",
    "        sc_merg_chr_wind_toimp = sc_merg[~sc_merg['POS'].isin(current_window_bk['POS'].tolist())]\n",
    "        bk_merg = bk_merg[bk_merg['POS'].isin(current_window_bk['POS'].tolist())]\n",
    "        sc_merg = sc_merg[sc_merg['POS'].isin(current_window_bk['POS'].tolist())]\n",
    "\n",
    "        print(sc_merg.shape[0], bk_merg.shape[0], sc_merg_chr_wind_toimp.shape[0])\n",
    "\n",
    "        vec_bulk = bk_merg[window].map(gen_dosage).tolist()\n",
    "        vec_sing = sc_merg[window].map(gen_dosage).tolist()\n",
    "\n",
    "        j_value = jaccard_score(vec_bulk, vec_sing, average='macro')\n",
    "        j_list_pre.append(j_value)\n",
    "\n",
    "        dict_js = {'chromosome': chrom, 'window': window, 'j_score': j_value}\n",
    "        dict_pre.append(dict_js)\n",
    "\n",
    "        sc_merg_chr_wind_toimp.to_csv(os.path.join(output_dir, f'GM12878_SC_merged_chr{chrom}_window{window}_toimp.vcf.gz'), sep='\\t', index=False, compression='gzip')\n",
    "        bk_merg.to_csv(os.path.join(output_dir, f'GM12878_gDNA_merged_chr{chrom}_window{window}_check.vcf'), sep='\\t', index=False)\n",
    "\n",
    "\n",
    "    pd.DataFrame(dict_pre).to_excel(os.path.join(result_dir, f'jaccard_scores_chr{chrom}_pre.xlsx'), index=False)\n"
   ]
  },
  {
   "cell_type": "code",
   "execution_count": null,
   "metadata": {},
   "outputs": [],
   "source": [
    "wind1sc_toimp = pd.read_csv(f'../server/outputs/windows/GM12878_SC_merged_chr1_window1_toimp.vcf.gz', sep='\\t')\n",
    "wind1bk = pd.read_csv(f'../server/outputs/windows/GM12878_gDNA_merged_chr1_window1_check.vcf', sep='\\t')\n",
    "wind1sc = pd.read_csv(f'../server/outputs/windows/GM12878_SC_merged_chr1_window1_check.vcf.gz', sep='\\t')\n",
    "\n",
    "\n",
    "wind2sc_toimp = pd.read_csv(f'../server/outputs/windows/GM12878_SC_merged_chr1_window2_toimp.vcf.gz', sep='\\t')\n",
    "wind2bk = pd.read_csv(f'../server/outputs/windows/GM12878_gDNA_merged_chr1_window2_check.vcf', sep='\\t')\n",
    "wind2sc = pd.read_csv(f'../server/outputs/windows/GM12878_SC_merged_chr1_window2_check.vcf.gz', sep='\\t')\n",
    "\n",
    "\n",
    "wind3sc_toimp = pd.read_csv(f'../server/outputs/windows/GM12878_SC_merged_chr1_window3_toimp.vcf.gz', sep='\\t')\n",
    "wind3bk = pd.read_csv(f'../server/outputs/windows/GM12878_gDNA_merged_chr1_window3_check.vcf', sep='\\t')\n",
    "wind3sc = pd.read_csv(f'../server/outputs/windows/GM12878_SC_merged_chr1_window3_check.vcf.gz', sep='\\t')"
   ]
  },
  {
   "cell_type": "code",
   "execution_count": null,
   "metadata": {},
   "outputs": [],
   "source": [
    "print(wind1bk.shape[0], wind1sc.shape[0], wind1sc_toimp.shape[0])\n",
    "print(wind2bk.shape[0], wind2sc.shape[0], wind2sc_toimp.shape[0])\n",
    "print(wind3bk.shape[0], wind3sc.shape[0], wind3sc_toimp.shape[0])"
   ]
  },
  {
   "cell_type": "code",
   "execution_count": null,
   "metadata": {},
   "outputs": [],
   "source": [
    "wind1bk.head()"
   ]
  },
  {
   "cell_type": "code",
   "execution_count": null,
   "metadata": {},
   "outputs": [],
   "source": [
    "import pandas as pd\n",
    "from sklearn.metrics import jaccard_score\n",
    "\n",
    "samples = ['201666260058_R06C01', '201666260058_R06C02', '201662330194_R02C01', '201662330194_R01C01', '201662330194_R01C02']\n",
    "gen_dosage = {'0/0':0,'0/1':1,'1/0':1,'1/1':2,'1/2':3,'2/2':4,'./.':5}\n",
    "chromosomes = ['1', '2', '3', '4', '5', '6', '7', '8', '9', '10', '11', '12', '13', '14', '15', '16','17', '18', '19', '20', '21', '22']\n",
    "num_windows = 5\n",
    "\n",
    "for chrom in chromosomes:\n",
    "    # loop over chromosomes\n",
    "    sc_merg_chr_wind_check = pd.read_csv(f'../server/outputs/windows/GM12878_SC_merged_chr{chrom}_window{window}_check.vcf.gz', header=0, sep='\\t', dtype='object')\n",
    "    # read in the single-cell merged chromosome VCF file\n",
    "    for window in range(num_windows):\n",
    "        # loop over windows\n",
    "        current_window_bk = pd.read_csv(f'../server/outputs/windows/GM12878_gDNA_merged_chr{chrom}_window{window}_check.vcf', header=0, sep='\\t')\n",
    "        # read in the current bulk VCF window file\n",
    "        \n",
    "        print(sc_merg_chr_wind_check.shape[0], current_window_bk.shape[0])\n",
    "        \n",
    "        for sample in samples:\n",
    "            # loop over samples\n",
    "            dict_pre = []\n",
    "            # create an empty list to hold the results for this sample and window\n",
    "            with open(f'../server/results/windows/maskedpos_chr{chrom}_window{window}.txt','w') as output:\n",
    "                output.write(str(current_window_bk.POS.tolist()))\n",
    "            # write the list of positions in the bulk VCF window to a file\n",
    "            # note: changed \"bk_merg_chr\" to \"current_window_bk\"\n",
    "            \n",
    "            vec_bulk = current_window_bk[sample].map(gen_dosage).tolist()\n",
    "            vec_sing = sc_merg_chr_wind_check[sample].map(gen_dosage).tolist()\n",
    "            # create lists of genotypes for the current sample in the bulk and single-cell data\n",
    "            \n",
    "            j_value = jaccard_score(vec_bulk, vec_sing, average='macro')\n",
    "            # calculate the Jaccard similarity score for the current sample and window\n",
    "            j_dict = {'sample': sample, 'chromosome': chrom, 'window': window, 'j_score': j_value}\n",
    "            # create a dictionary with the sample, chromosome, window, and Jaccard score\n",
    "            dict_pre.append(j_dict)\n",
    "            # add the dictionary to the list for this sample and window\n",
    "            \n",
    "            pd.DataFrame(dict_pre).to_excel(f'../server/results/windows/jaccard_scores_{sample}_chr{chrom}_window{window}_pre.xlsx', index=False)\n",
    "            # write the list of Jaccard scores for this sample and window to an Excel file\n",
    "            # note: changed \"pos_seed\" to \"current_window_bk.POS\"\n"
   ]
  },
  {
   "cell_type": "code",
   "execution_count": null,
   "metadata": {},
   "outputs": [],
   "source": [
    "\n",
    "import glob\n",
    "\n",
    "# create a list of all excel files matching the pattern\n",
    "excel_files = glob.glob(\"../server/results/windows/jaccard_scores_*_pre.xlsx\")\n",
    "\n",
    "# concatenate all excel files into one dataframe\n",
    "combined_df = pd.concat([pd.read_excel(file) for file in excel_files], ignore_index=True)\n",
    "\n",
    "# write the concatenated dataframe to a new excel file\n",
    "combined_df.to_excel(\"../server/results/windows/jaccard_scores_combined_pre.xlsx\", index=False)\n",
    "\n",
    "print(combined_df.shape[0]) # 22 x 5 x 5 = 550\n"
   ]
  },
  {
   "cell_type": "code",
   "execution_count": null,
   "metadata": {},
   "outputs": [],
   "source": [
    "import matplotlib.pyplot as plt\n",
    "import seaborn as sns\n",
    "\n",
    "# Create a larger figure\n",
    "fig, ax = plt.subplots(figsize=(10, 6))\n",
    "\n",
    "# Create the boxplot hue='perc'\n",
    "sns.boxplot(data=combined_df, x='sample', y='j_score', hue='window', ax=ax, width=0.6)\n",
    "\n",
    "# Add labels and title\n",
    "ax.set_xlabel('Chromosome')\n",
    "ax.set_ylabel('J Score')\n",
    "ax.set_title('J Score Distribution by Chromosome and Percentage')\n",
    "\n",
    "# Add legend outside the plot\n",
    "ax.legend(bbox_to_anchor=(1.05, 1), loc='upper left', borderaxespad=0.)\n",
    "\n",
    "# Show the plot\n",
    "plt.show()\n"
   ]
  },
  {
   "cell_type": "code",
   "execution_count": null,
   "metadata": {},
   "outputs": [],
   "source": []
  }
 ],
 "metadata": {
  "kernelspec": {
   "display_name": "convparq",
   "language": "python",
   "name": "python3"
  },
  "language_info": {
   "codemirror_mode": {
    "name": "ipython",
    "version": 3
   },
   "file_extension": ".py",
   "mimetype": "text/x-python",
   "name": "python",
   "nbconvert_exporter": "python",
   "pygments_lexer": "ipython3",
   "version": "3.10.8"
  },
  "orig_nbformat": 4
 },
 "nbformat": 4,
 "nbformat_minor": 2
}
